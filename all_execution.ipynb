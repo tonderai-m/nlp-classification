{
 "cells": [
  {
   "cell_type": "code",
   "execution_count": 1,
   "metadata": {},
   "outputs": [
    {
     "name": "stderr",
     "output_type": "stream",
     "text": [
      "/Users/tonderaimadamba/Documents/Client Work/Ryan/ryan-MLops/Envs/env_pythorch/lib/python3.9/site-packages/tqdm/auto.py:22: TqdmWarning: IProgress not found. Please update jupyter and ipywidgets. See https://ipywidgets.readthedocs.io/en/stable/user_install.html\n",
      "  from .autonotebook import tqdm as notebook_tqdm\n"
     ]
    }
   ],
   "source": [
    "# from preprocess import preprocess\n",
    "import yaml \n",
    "# from scripts.training.create_target import create_target\n",
    "from scripts.training import preprocess, split, create_split, train_val_test\n",
    "# from scripts.training.create_binarizer import create_binarizer\n",
    "# from scripts.training.binarize_target import binarize_target\n",
    "# from scripts.training.create_split import create_split\n",
    "from src.processing import file_handling, features, target\n",
    "from src.processing.target import encode_target\n",
    "from src.model import pytorch\n",
    "from pathlib import Path\n",
    "import mlflow\n",
    "import numpy as np \n",
    "import pickle\n",
    "import pandas as pd"
   ]
  },
  {
   "cell_type": "code",
   "execution_count": 2,
   "metadata": {},
   "outputs": [],
   "source": [
    "CONFIG = yaml.safe_load(open('config.yaml'))"
   ]
  },
  {
   "cell_type": "code",
   "execution_count": 3,
   "metadata": {},
   "outputs": [
    {
     "data": {
      "text/plain": [
       "{'seed': 7,\n",
       " 'log_level': 'INFO',\n",
       " 'log_format': '%(asctime)s - %(levelname)s - %(message)s',\n",
       " 'data_storage': {'local_data_path': 'data',\n",
       "  'input_file_names': ['SamplePopulation_Albertsons_CandyBeverages_Compiled',\n",
       "   'SamplePopulation_Albertsons_HealthBeauty_Compiled'],\n",
       "  'intermediate_file_name': 'processed',\n",
       "  'output_file_names': '_output_results',\n",
       "  'processed_main_file_names': '_processed_input_data',\n",
       "  'processed_targets_file_names': '_targets',\n",
       "  'processed_split_file_names': ['_train', '_validation', '_test'],\n",
       "  'input_extension': '/*.csv',\n",
       "  'save_extension': '.csv',\n",
       "  'features_file_name': '_processed_features',\n",
       "  'target_file_name': '_processed_target',\n",
       "  'binarized_file_name': '_processed_binarized',\n",
       "  'target_col_input': 'Category Code',\n",
       "  'target_extension': '.csv'},\n",
       " 'execution': {'local_execution_path': 'execution_files',\n",
       "  'target_col_binarizer_name': 'target_col_binarizer',\n",
       "  'pickle_extension': '.pkl'},\n",
       " 'preprocessing': {'train_ratio': 0.6, 'val_ratio': 0.2, 'test_ratio': 0.2},\n",
       " 'model': {'feature_cols': ['Category', 'Product Description', 'Size'],\n",
       "  'feature_name': 'feature',\n",
       "  'target_col_list': 'target_list',\n",
       "  'target_input_name': 'Category Description',\n",
       "  'target_col_name': 'target',\n",
       "  'target_col_binarized': 'target_binarized',\n",
       "  'learning_rate': 0.01,\n",
       "  'hidden_dim': 5,\n",
       "  'num_workers': 10,\n",
       "  'max_epochs': 1,\n",
       "  'decision_metric': 'test_mcc',\n",
       "  'max_len': 500,\n",
       "  'batch_size': 50}}"
      ]
     },
     "execution_count": 3,
     "metadata": {},
     "output_type": "execute_result"
    }
   ],
   "source": [
    "CONFIG"
   ]
  },
  {
   "cell_type": "code",
   "execution_count": 6,
   "metadata": {},
   "outputs": [],
   "source": [
    "preprocess.preprocess(CONFIG)"
   ]
  },
  {
   "cell_type": "code",
   "execution_count": 7,
   "metadata": {},
   "outputs": [],
   "source": [
    "split.split(CONFIG)"
   ]
  },
  {
   "cell_type": "code",
   "execution_count": null,
   "metadata": {},
   "outputs": [],
   "source": [
    "# split.split(CONFIG)"
   ]
  },
  {
   "cell_type": "code",
   "execution_count": null,
   "metadata": {},
   "outputs": [],
   "source": [
    "#  mlflow.set_experiment('/Users/tonderaimadamba/Documents/Client Work/Ryan/ryan-MLops/rpm-mvp/data/processed_binarized')"
   ]
  },
  {
   "cell_type": "code",
   "execution_count": null,
   "metadata": {},
   "outputs": [],
   "source": [
    "# import mlflow\n"
   ]
  },
  {
   "cell_type": "code",
   "execution_count": null,
   "metadata": {},
   "outputs": [],
   "source": [
    "# preprocess.preprocess(CONFIG)"
   ]
  },
  {
   "cell_type": "code",
   "execution_count": null,
   "metadata": {},
   "outputs": [],
   "source": [
    "# python ./scripts/training/train_val_test.py --model src.model.pytorch.MultiClassClassifier --experiment ${experiment}"
   ]
  },
  {
   "cell_type": "code",
   "execution_count": null,
   "metadata": {},
   "outputs": [],
   "source": [
    "from src.model.utils import locate_model\n",
    "from src.processing import tokenize\n",
    "from transformers import DistilBertTokenizer, TFDistilBertModel"
   ]
  },
  {
   "cell_type": "code",
   "execution_count": 14,
   "metadata": {},
   "outputs": [],
   "source": [
    "load_dir = Path(\"/\".join([CONFIG[\"data_storage\"][\"local_data_path\"], \"processed\"]))\n",
    "file_name = 'processed'\n",
    "extension = CONFIG[\"data_storage\"][\"save_extension\"]\n",
    "processed_df = pd.read_csv('/Users/tonderaimadamba/Documents/Client Work/Ryan/ryan-MLops/rpm-mvp/data/processed/processed.csv')\n",
    "train_df = pd.read_csv(str(load_dir / file_name) + \"_train\" + extension, converters={'target': pd.eval})\n",
    "val_df = pd.read_csv(str(load_dir / file_name) + \"_val\" + extension, converters={'target': pd.eval})\n",
    "test_df = pd.read_csv(str(load_dir / file_name) + \"_test\" + extension, converters={'target': pd.eval})\n"
   ]
  },
  {
   "cell_type": "code",
   "execution_count": 15,
   "metadata": {},
   "outputs": [
    {
     "data": {
      "text/html": [
       "<div>\n",
       "<style scoped>\n",
       "    .dataframe tbody tr th:only-of-type {\n",
       "        vertical-align: middle;\n",
       "    }\n",
       "\n",
       "    .dataframe tbody tr th {\n",
       "        vertical-align: top;\n",
       "    }\n",
       "\n",
       "    .dataframe thead th {\n",
       "        text-align: right;\n",
       "    }\n",
       "</style>\n",
       "<table border=\"1\" class=\"dataframe\">\n",
       "  <thead>\n",
       "    <tr style=\"text-align: right;\">\n",
       "      <th></th>\n",
       "      <th>Unnamed: 0</th>\n",
       "      <th>feature</th>\n",
       "      <th>Category Code</th>\n",
       "      <th>target</th>\n",
       "    </tr>\n",
       "  </thead>\n",
       "  <tbody>\n",
       "    <tr>\n",
       "      <th>0</th>\n",
       "      <td>0</td>\n",
       "      <td>COFFEE/TEA/HOT COCOA/CREAM/FILTERS, STRBKS COF...</td>\n",
       "      <td>Coffee Beans or Ground coffee</td>\n",
       "      <td>[0, 0, 0, 0, 0, 0, 0, 0, 1, 0, 0, 0, 0, 0, 0, ...</td>\n",
       "    </tr>\n",
       "    <tr>\n",
       "      <th>1</th>\n",
       "      <td>1</td>\n",
       "      <td>VITAMINS AND DIETARY SUPPLEMENTS, VITAMIN CALM...</td>\n",
       "      <td>Dietary Supplements</td>\n",
       "      <td>[0, 0, 0, 0, 0, 0, 0, 0, 0, 1, 0, 0, 0, 0, 0, ...</td>\n",
       "    </tr>\n",
       "    <tr>\n",
       "      <th>2</th>\n",
       "      <td>2</td>\n",
       "      <td>COSMETICS, CG MELTING POUT VINYL VOW TOASTED, ...</td>\n",
       "      <td>Grooming and Hygiene Products</td>\n",
       "      <td>[0, 0, 0, 0, 0, 0, 0, 0, 0, 0, 0, 0, 0, 1, 0, ...</td>\n",
       "    </tr>\n",
       "    <tr>\n",
       "      <th>3</th>\n",
       "      <td>3</td>\n",
       "      <td>DEODORANT/ANTI-PERSPIRANT, OLD SPC HE FRESH DE...</td>\n",
       "      <td>Grooming and Hygiene Products</td>\n",
       "      <td>[0, 0, 0, 0, 0, 0, 0, 0, 0, 0, 0, 0, 0, 1, 0, ...</td>\n",
       "    </tr>\n",
       "    <tr>\n",
       "      <th>4</th>\n",
       "      <td>4</td>\n",
       "      <td>COFFEE/TEA/HOT COCOA/CREAM/FILTERS, CARIBOU S ...</td>\n",
       "      <td>Coffee Beans or Ground coffee</td>\n",
       "      <td>[0, 0, 0, 0, 0, 0, 0, 0, 1, 0, 0, 0, 0, 0, 0, ...</td>\n",
       "    </tr>\n",
       "    <tr>\n",
       "      <th>...</th>\n",
       "      <td>...</td>\n",
       "      <td>...</td>\n",
       "      <td>...</td>\n",
       "      <td>...</td>\n",
       "    </tr>\n",
       "    <tr>\n",
       "      <th>95</th>\n",
       "      <td>95</td>\n",
       "      <td>COSMETICS, MAYBEL BROW ULTRA SLIM BLONDE, .003 FZ</td>\n",
       "      <td>Grooming and Hygiene Products</td>\n",
       "      <td>[0, 0, 0, 0, 0, 0, 0, 0, 0, 0, 0, 0, 0, 1, 0, ...</td>\n",
       "    </tr>\n",
       "    <tr>\n",
       "      <th>96</th>\n",
       "      <td>96</td>\n",
       "      <td>NON CARBONATED BEVERAGES, LIPTON GREEN TEA WHI...</td>\n",
       "      <td>Flav Tea</td>\n",
       "      <td>[0, 0, 0, 0, 0, 0, 0, 0, 0, 0, 0, 0, 1, 0, 0, ...</td>\n",
       "    </tr>\n",
       "    <tr>\n",
       "      <th>97</th>\n",
       "      <td>97</td>\n",
       "      <td>COSMETICS, SINFUL SHINE GEL TECH LIQUID, 0.5 FZ</td>\n",
       "      <td>Grooming and Hygiene Products</td>\n",
       "      <td>[0, 0, 0, 0, 0, 0, 0, 0, 0, 0, 0, 0, 0, 1, 0, ...</td>\n",
       "    </tr>\n",
       "    <tr>\n",
       "      <th>98</th>\n",
       "      <td>98</td>\n",
       "      <td>ALCOHOLIC BEVERAGES, SUTTER HOME FRE BRUT 4PK,...</td>\n",
       "      <td>Non-Alcoholic Beer</td>\n",
       "      <td>[0, 0, 0, 0, 0, 0, 0, 0, 0, 0, 0, 0, 0, 0, 0, ...</td>\n",
       "    </tr>\n",
       "    <tr>\n",
       "      <th>99</th>\n",
       "      <td>99</td>\n",
       "      <td>NON CARBONATED BEVERAGES, GOLD PEAK TEA CALIFO...</td>\n",
       "      <td>Flav Tea</td>\n",
       "      <td>[0, 0, 0, 0, 0, 0, 0, 0, 0, 0, 0, 0, 1, 0, 0, ...</td>\n",
       "    </tr>\n",
       "  </tbody>\n",
       "</table>\n",
       "<p>100 rows × 4 columns</p>\n",
       "</div>"
      ],
      "text/plain": [
       "    Unnamed: 0                                            feature  \\\n",
       "0            0  COFFEE/TEA/HOT COCOA/CREAM/FILTERS, STRBKS COF...   \n",
       "1            1  VITAMINS AND DIETARY SUPPLEMENTS, VITAMIN CALM...   \n",
       "2            2  COSMETICS, CG MELTING POUT VINYL VOW TOASTED, ...   \n",
       "3            3  DEODORANT/ANTI-PERSPIRANT, OLD SPC HE FRESH DE...   \n",
       "4            4  COFFEE/TEA/HOT COCOA/CREAM/FILTERS, CARIBOU S ...   \n",
       "..         ...                                                ...   \n",
       "95          95  COSMETICS, MAYBEL BROW ULTRA SLIM BLONDE, .003 FZ   \n",
       "96          96  NON CARBONATED BEVERAGES, LIPTON GREEN TEA WHI...   \n",
       "97          97    COSMETICS, SINFUL SHINE GEL TECH LIQUID, 0.5 FZ   \n",
       "98          98  ALCOHOLIC BEVERAGES, SUTTER HOME FRE BRUT 4PK,...   \n",
       "99          99  NON CARBONATED BEVERAGES, GOLD PEAK TEA CALIFO...   \n",
       "\n",
       "                    Category Code  \\\n",
       "0   Coffee Beans or Ground coffee   \n",
       "1             Dietary Supplements   \n",
       "2   Grooming and Hygiene Products   \n",
       "3   Grooming and Hygiene Products   \n",
       "4   Coffee Beans or Ground coffee   \n",
       "..                            ...   \n",
       "95  Grooming and Hygiene Products   \n",
       "96                       Flav Tea   \n",
       "97  Grooming and Hygiene Products   \n",
       "98             Non-Alcoholic Beer   \n",
       "99                       Flav Tea   \n",
       "\n",
       "                                               target  \n",
       "0   [0, 0, 0, 0, 0, 0, 0, 0, 1, 0, 0, 0, 0, 0, 0, ...  \n",
       "1   [0, 0, 0, 0, 0, 0, 0, 0, 0, 1, 0, 0, 0, 0, 0, ...  \n",
       "2   [0, 0, 0, 0, 0, 0, 0, 0, 0, 0, 0, 0, 0, 1, 0, ...  \n",
       "3   [0, 0, 0, 0, 0, 0, 0, 0, 0, 0, 0, 0, 0, 1, 0, ...  \n",
       "4   [0, 0, 0, 0, 0, 0, 0, 0, 1, 0, 0, 0, 0, 0, 0, ...  \n",
       "..                                                ...  \n",
       "95  [0, 0, 0, 0, 0, 0, 0, 0, 0, 0, 0, 0, 0, 1, 0, ...  \n",
       "96  [0, 0, 0, 0, 0, 0, 0, 0, 0, 0, 0, 0, 1, 0, 0, ...  \n",
       "97  [0, 0, 0, 0, 0, 0, 0, 0, 0, 0, 0, 0, 0, 1, 0, ...  \n",
       "98  [0, 0, 0, 0, 0, 0, 0, 0, 0, 0, 0, 0, 0, 0, 0, ...  \n",
       "99  [0, 0, 0, 0, 0, 0, 0, 0, 0, 0, 0, 0, 1, 0, 0, ...  \n",
       "\n",
       "[100 rows x 4 columns]"
      ]
     },
     "execution_count": 15,
     "metadata": {},
     "output_type": "execute_result"
    }
   ],
   "source": [
    "processed_df "
   ]
  },
  {
   "cell_type": "code",
   "execution_count": 9,
   "metadata": {},
   "outputs": [],
   "source": [
    "train_df_5 = pd.read_csv(\"/Users/tonderaimadamba/Documents/Client Work/Ryan/ryan-MLops/rpm-mvp/data/processed/processed_train.csv\")"
   ]
  },
  {
   "cell_type": "code",
   "execution_count": 16,
   "metadata": {},
   "outputs": [
    {
     "data": {
      "text/plain": [
       "66"
      ]
     },
     "execution_count": 16,
     "metadata": {},
     "output_type": "execute_result"
    }
   ],
   "source": [
    "len(train_df_5) + len(val_df) + len(test_df)"
   ]
  },
  {
   "cell_type": "code",
   "execution_count": 12,
   "metadata": {},
   "outputs": [
    {
     "data": {
      "text/html": [
       "<div>\n",
       "<style scoped>\n",
       "    .dataframe tbody tr th:only-of-type {\n",
       "        vertical-align: middle;\n",
       "    }\n",
       "\n",
       "    .dataframe tbody tr th {\n",
       "        vertical-align: top;\n",
       "    }\n",
       "\n",
       "    .dataframe thead th {\n",
       "        text-align: right;\n",
       "    }\n",
       "</style>\n",
       "<table border=\"1\" class=\"dataframe\">\n",
       "  <thead>\n",
       "    <tr style=\"text-align: right;\">\n",
       "      <th></th>\n",
       "      <th>index</th>\n",
       "      <th>Unnamed: 0</th>\n",
       "      <th>feature</th>\n",
       "      <th>Category Code</th>\n",
       "      <th>target</th>\n",
       "    </tr>\n",
       "  </thead>\n",
       "  <tbody>\n",
       "    <tr>\n",
       "      <th>0</th>\n",
       "      <td>89</td>\n",
       "      <td>89</td>\n",
       "      <td>COSMETICS, A.I.I. CHINA GLAZE GET RIGHT GET BR...</td>\n",
       "      <td>Grooming and Hygiene Products</td>\n",
       "      <td>[0, 0, 0, 0, 0, 0, 0, 0, 0, 0, 0, 0, 0, 1, 0, ...</td>\n",
       "    </tr>\n",
       "    <tr>\n",
       "      <th>1</th>\n",
       "      <td>34</td>\n",
       "      <td>34</td>\n",
       "      <td>COSMETICS, REV PHOTOREADY INSTAFIX MED BE, EA</td>\n",
       "      <td>Grooming and Hygiene Products</td>\n",
       "      <td>[0, 0, 0, 0, 0, 0, 0, 0, 0, 0, 0, 0, 0, 1, 0, ...</td>\n",
       "    </tr>\n",
       "    <tr>\n",
       "      <th>2</th>\n",
       "      <td>13</td>\n",
       "      <td>13</td>\n",
       "      <td>COSMETICS, LRL AIR MASCARA WTP BLACK WTP, .28 FZ</td>\n",
       "      <td>Grooming and Hygiene Products</td>\n",
       "      <td>[0, 0, 0, 0, 0, 0, 0, 0, 0, 0, 0, 0, 0, 1, 0, ...</td>\n",
       "    </tr>\n",
       "    <tr>\n",
       "      <th>3</th>\n",
       "      <td>7</td>\n",
       "      <td>7</td>\n",
       "      <td>COSMETICS, MAYB BROW DRAMA CHALK BLONDE, 0.03 OZ</td>\n",
       "      <td>Grooming and Hygiene Products</td>\n",
       "      <td>[0, 0, 0, 0, 0, 0, 0, 0, 0, 0, 0, 0, 0, 1, 0, ...</td>\n",
       "    </tr>\n",
       "    <tr>\n",
       "      <th>4</th>\n",
       "      <td>22</td>\n",
       "      <td>22</td>\n",
       "      <td>COSMETICS, BLACK CONCEALER DARK, EA</td>\n",
       "      <td>Grooming and Hygiene Products</td>\n",
       "      <td>[0, 0, 0, 0, 0, 0, 0, 0, 0, 0, 0, 0, 0, 1, 0, ...</td>\n",
       "    </tr>\n",
       "    <tr>\n",
       "      <th>5</th>\n",
       "      <td>50</td>\n",
       "      <td>50</td>\n",
       "      <td>COSMETICS, CG KATY KAT LIPGLOSS CATELOUPE, .12 OZ</td>\n",
       "      <td>Grooming and Hygiene Products</td>\n",
       "      <td>[0, 0, 0, 0, 0, 0, 0, 0, 0, 0, 0, 0, 0, 1, 0, ...</td>\n",
       "    </tr>\n",
       "    <tr>\n",
       "      <th>6</th>\n",
       "      <td>86</td>\n",
       "      <td>86</td>\n",
       "      <td>COSMETICS, EXPRESSIE BINGE-WORTHY, 0.33 FZ</td>\n",
       "      <td>Grooming and Hygiene Products</td>\n",
       "      <td>[0, 0, 0, 0, 0, 0, 0, 0, 0, 0, 0, 0, 0, 1, 0, ...</td>\n",
       "    </tr>\n",
       "    <tr>\n",
       "      <th>7</th>\n",
       "      <td>27</td>\n",
       "      <td>27</td>\n",
       "      <td>COSMETICS, LOREAL X FIBER WTP BLACKEST BLACK, ...</td>\n",
       "      <td>Grooming and Hygiene Products</td>\n",
       "      <td>[0, 0, 0, 0, 0, 0, 0, 0, 0, 0, 0, 0, 0, 1, 0, ...</td>\n",
       "    </tr>\n",
       "    <tr>\n",
       "      <th>8</th>\n",
       "      <td>25</td>\n",
       "      <td>25</td>\n",
       "      <td>VITAMINS AND DIETARY SUPPLEMENTS, EXTRACT TEA ...</td>\n",
       "      <td>Dietary Supplements</td>\n",
       "      <td>[0, 0, 0, 0, 0, 0, 0, 0, 0, 1, 0, 0, 0, 0, 0, ...</td>\n",
       "    </tr>\n",
       "    <tr>\n",
       "      <th>9</th>\n",
       "      <td>9</td>\n",
       "      <td>9</td>\n",
       "      <td>COSMETICS, ESSIE NAIL COLOR BIKINISOTEENY, 0.4...</td>\n",
       "      <td>Grooming and Hygiene Products</td>\n",
       "      <td>[0, 0, 0, 0, 0, 0, 0, 0, 0, 0, 0, 0, 0, 1, 0, ...</td>\n",
       "    </tr>\n",
       "    <tr>\n",
       "      <th>10</th>\n",
       "      <td>75</td>\n",
       "      <td>75</td>\n",
       "      <td>VITAMINS AND DIETARY SUPPLEMENTS, NM L-LYSINE ...</td>\n",
       "      <td>Dietary Supplements</td>\n",
       "      <td>[0, 0, 0, 0, 0, 0, 0, 0, 0, 1, 0, 0, 0, 0, 0, ...</td>\n",
       "    </tr>\n",
       "    <tr>\n",
       "      <th>11</th>\n",
       "      <td>2</td>\n",
       "      <td>2</td>\n",
       "      <td>COSMETICS, CG MELTING POUT VINYL VOW TOASTED, ...</td>\n",
       "      <td>Grooming and Hygiene Products</td>\n",
       "      <td>[0, 0, 0, 0, 0, 0, 0, 0, 0, 0, 0, 0, 0, 1, 0, ...</td>\n",
       "    </tr>\n",
       "    <tr>\n",
       "      <th>12</th>\n",
       "      <td>11</td>\n",
       "      <td>11</td>\n",
       "      <td>COSMETICS, SALLY HANSON DS FRENCH MANI BALLET,...</td>\n",
       "      <td>Grooming and Hygiene Products</td>\n",
       "      <td>[0, 0, 0, 0, 0, 0, 0, 0, 0, 0, 0, 0, 0, 1, 0, ...</td>\n",
       "    </tr>\n",
       "  </tbody>\n",
       "</table>\n",
       "</div>"
      ],
      "text/plain": [
       "    index  Unnamed: 0                                            feature  \\\n",
       "0      89          89  COSMETICS, A.I.I. CHINA GLAZE GET RIGHT GET BR...   \n",
       "1      34          34      COSMETICS, REV PHOTOREADY INSTAFIX MED BE, EA   \n",
       "2      13          13   COSMETICS, LRL AIR MASCARA WTP BLACK WTP, .28 FZ   \n",
       "3       7           7   COSMETICS, MAYB BROW DRAMA CHALK BLONDE, 0.03 OZ   \n",
       "4      22          22                COSMETICS, BLACK CONCEALER DARK, EA   \n",
       "5      50          50  COSMETICS, CG KATY KAT LIPGLOSS CATELOUPE, .12 OZ   \n",
       "6      86          86         COSMETICS, EXPRESSIE BINGE-WORTHY, 0.33 FZ   \n",
       "7      27          27  COSMETICS, LOREAL X FIBER WTP BLACKEST BLACK, ...   \n",
       "8      25          25  VITAMINS AND DIETARY SUPPLEMENTS, EXTRACT TEA ...   \n",
       "9       9           9  COSMETICS, ESSIE NAIL COLOR BIKINISOTEENY, 0.4...   \n",
       "10     75          75  VITAMINS AND DIETARY SUPPLEMENTS, NM L-LYSINE ...   \n",
       "11      2           2  COSMETICS, CG MELTING POUT VINYL VOW TOASTED, ...   \n",
       "12     11          11  COSMETICS, SALLY HANSON DS FRENCH MANI BALLET,...   \n",
       "\n",
       "                    Category Code  \\\n",
       "0   Grooming and Hygiene Products   \n",
       "1   Grooming and Hygiene Products   \n",
       "2   Grooming and Hygiene Products   \n",
       "3   Grooming and Hygiene Products   \n",
       "4   Grooming and Hygiene Products   \n",
       "5   Grooming and Hygiene Products   \n",
       "6   Grooming and Hygiene Products   \n",
       "7   Grooming and Hygiene Products   \n",
       "8             Dietary Supplements   \n",
       "9   Grooming and Hygiene Products   \n",
       "10            Dietary Supplements   \n",
       "11  Grooming and Hygiene Products   \n",
       "12  Grooming and Hygiene Products   \n",
       "\n",
       "                                               target  \n",
       "0   [0, 0, 0, 0, 0, 0, 0, 0, 0, 0, 0, 0, 0, 1, 0, ...  \n",
       "1   [0, 0, 0, 0, 0, 0, 0, 0, 0, 0, 0, 0, 0, 1, 0, ...  \n",
       "2   [0, 0, 0, 0, 0, 0, 0, 0, 0, 0, 0, 0, 0, 1, 0, ...  \n",
       "3   [0, 0, 0, 0, 0, 0, 0, 0, 0, 0, 0, 0, 0, 1, 0, ...  \n",
       "4   [0, 0, 0, 0, 0, 0, 0, 0, 0, 0, 0, 0, 0, 1, 0, ...  \n",
       "5   [0, 0, 0, 0, 0, 0, 0, 0, 0, 0, 0, 0, 0, 1, 0, ...  \n",
       "6   [0, 0, 0, 0, 0, 0, 0, 0, 0, 0, 0, 0, 0, 1, 0, ...  \n",
       "7   [0, 0, 0, 0, 0, 0, 0, 0, 0, 0, 0, 0, 0, 1, 0, ...  \n",
       "8   [0, 0, 0, 0, 0, 0, 0, 0, 0, 1, 0, 0, 0, 0, 0, ...  \n",
       "9   [0, 0, 0, 0, 0, 0, 0, 0, 0, 0, 0, 0, 0, 1, 0, ...  \n",
       "10  [0, 0, 0, 0, 0, 0, 0, 0, 0, 1, 0, 0, 0, 0, 0, ...  \n",
       "11  [0, 0, 0, 0, 0, 0, 0, 0, 0, 0, 0, 0, 0, 1, 0, ...  \n",
       "12  [0, 0, 0, 0, 0, 0, 0, 0, 0, 0, 0, 0, 0, 1, 0, ...  "
      ]
     },
     "execution_count": 12,
     "metadata": {},
     "output_type": "execute_result"
    }
   ],
   "source": [
    "val_df"
   ]
  },
  {
   "cell_type": "code",
   "execution_count": 13,
   "metadata": {},
   "outputs": [
    {
     "data": {
      "text/html": [
       "<div>\n",
       "<style scoped>\n",
       "    .dataframe tbody tr th:only-of-type {\n",
       "        vertical-align: middle;\n",
       "    }\n",
       "\n",
       "    .dataframe tbody tr th {\n",
       "        vertical-align: top;\n",
       "    }\n",
       "\n",
       "    .dataframe thead th {\n",
       "        text-align: right;\n",
       "    }\n",
       "</style>\n",
       "<table border=\"1\" class=\"dataframe\">\n",
       "  <thead>\n",
       "    <tr style=\"text-align: right;\">\n",
       "      <th></th>\n",
       "      <th>index</th>\n",
       "      <th>Unnamed: 0</th>\n",
       "      <th>feature</th>\n",
       "      <th>Category Code</th>\n",
       "      <th>target</th>\n",
       "    </tr>\n",
       "  </thead>\n",
       "  <tbody>\n",
       "    <tr>\n",
       "      <th>0</th>\n",
       "      <td>92</td>\n",
       "      <td>92</td>\n",
       "      <td>VITAMINS AND DIETARY SUPPLEMENTS, FLINTSTONES ...</td>\n",
       "      <td>Dietary Supplements</td>\n",
       "      <td>[0, 0, 0, 0, 0, 0, 0, 0, 0, 1, 0, 0, 0, 0, 0, ...</td>\n",
       "    </tr>\n",
       "    <tr>\n",
       "      <th>1</th>\n",
       "      <td>44</td>\n",
       "      <td>44</td>\n",
       "      <td>COSMETICS, KISS EVER EZ LASHES DOUBLE PACK 11, EA</td>\n",
       "      <td>Grooming and Hygiene Products</td>\n",
       "      <td>[0, 0, 0, 0, 0, 0, 0, 0, 0, 0, 0, 0, 0, 1, 0, ...</td>\n",
       "    </tr>\n",
       "    <tr>\n",
       "      <th>2</th>\n",
       "      <td>57</td>\n",
       "      <td>57</td>\n",
       "      <td>VITAMINS AND DIETARY SUPPLEMENTS, GNC MELATONI...</td>\n",
       "      <td>Dietary Supplements</td>\n",
       "      <td>[0, 0, 0, 0, 0, 0, 0, 0, 0, 1, 0, 0, 0, 0, 0, ...</td>\n",
       "    </tr>\n",
       "    <tr>\n",
       "      <th>3</th>\n",
       "      <td>93</td>\n",
       "      <td>93</td>\n",
       "      <td>COSMETICS, ALMAY ONE CT MULTI BENEFIT MASC BLK...</td>\n",
       "      <td>Grooming and Hygiene Products</td>\n",
       "      <td>[0, 0, 0, 0, 0, 0, 0, 0, 0, 0, 0, 0, 0, 1, 0, ...</td>\n",
       "    </tr>\n",
       "    <tr>\n",
       "      <th>4</th>\n",
       "      <td>97</td>\n",
       "      <td>97</td>\n",
       "      <td>COSMETICS, SINFUL SHINE GEL TECH LIQUID, 0.5 FZ</td>\n",
       "      <td>Grooming and Hygiene Products</td>\n",
       "      <td>[0, 0, 0, 0, 0, 0, 0, 0, 0, 0, 0, 0, 0, 1, 0, ...</td>\n",
       "    </tr>\n",
       "    <tr>\n",
       "      <th>5</th>\n",
       "      <td>43</td>\n",
       "      <td>43</td>\n",
       "      <td>COSMETICS, EXPRESSIE BREAKING THE BOLD, 0.33 FZ</td>\n",
       "      <td>Grooming and Hygiene Products</td>\n",
       "      <td>[0, 0, 0, 0, 0, 0, 0, 0, 0, 0, 0, 0, 0, 1, 0, ...</td>\n",
       "    </tr>\n",
       "    <tr>\n",
       "      <th>6</th>\n",
       "      <td>41</td>\n",
       "      <td>41</td>\n",
       "      <td>COSMETICS, ELF TINT FINISH POWDER LIGHT, EA</td>\n",
       "      <td>Grooming and Hygiene Products</td>\n",
       "      <td>[0, 0, 0, 0, 0, 0, 0, 0, 0, 0, 0, 0, 0, 1, 0, ...</td>\n",
       "    </tr>\n",
       "    <tr>\n",
       "      <th>7</th>\n",
       "      <td>68</td>\n",
       "      <td>68</td>\n",
       "      <td>COSMETICS, SH MIRACLE GEL HYP-NAUTIC, .5 FZ</td>\n",
       "      <td>Grooming and Hygiene Products</td>\n",
       "      <td>[0, 0, 0, 0, 0, 0, 0, 0, 0, 0, 0, 0, 0, 1, 0, ...</td>\n",
       "    </tr>\n",
       "    <tr>\n",
       "      <th>8</th>\n",
       "      <td>1</td>\n",
       "      <td>1</td>\n",
       "      <td>VITAMINS AND DIETARY SUPPLEMENTS, VITAMIN CALM...</td>\n",
       "      <td>Dietary Supplements</td>\n",
       "      <td>[0, 0, 0, 0, 0, 0, 0, 0, 0, 1, 0, 0, 0, 0, 0, ...</td>\n",
       "    </tr>\n",
       "    <tr>\n",
       "      <th>9</th>\n",
       "      <td>77</td>\n",
       "      <td>77</td>\n",
       "      <td>COSMETICS, REVLON CANDID GLOW AP FND TAWNY, .7...</td>\n",
       "      <td>Grooming and Hygiene Products</td>\n",
       "      <td>[0, 0, 0, 0, 0, 0, 0, 0, 0, 0, 0, 0, 0, 1, 0, ...</td>\n",
       "    </tr>\n",
       "    <tr>\n",
       "      <th>10</th>\n",
       "      <td>6</td>\n",
       "      <td>6</td>\n",
       "      <td>COSMETICS, CG EYELNR PENCIL PERF PT BLK BROWN ...</td>\n",
       "      <td>Grooming and Hygiene Products</td>\n",
       "      <td>[0, 0, 0, 0, 0, 0, 0, 0, 0, 0, 0, 0, 0, 1, 0, ...</td>\n",
       "    </tr>\n",
       "    <tr>\n",
       "      <th>11</th>\n",
       "      <td>69</td>\n",
       "      <td>69</td>\n",
       "      <td>DEODORANT/ANTI-PERSPIRANT, SECRET CLR GEL OUTL...</td>\n",
       "      <td>Grooming and Hygiene Products</td>\n",
       "      <td>[0, 0, 0, 0, 0, 0, 0, 0, 0, 0, 0, 0, 0, 1, 0, ...</td>\n",
       "    </tr>\n",
       "    <tr>\n",
       "      <th>12</th>\n",
       "      <td>95</td>\n",
       "      <td>95</td>\n",
       "      <td>COSMETICS, MAYBEL BROW ULTRA SLIM BLONDE, .003 FZ</td>\n",
       "      <td>Grooming and Hygiene Products</td>\n",
       "      <td>[0, 0, 0, 0, 0, 0, 0, 0, 0, 0, 0, 0, 0, 1, 0, ...</td>\n",
       "    </tr>\n",
       "    <tr>\n",
       "      <th>13</th>\n",
       "      <td>72</td>\n",
       "      <td>72</td>\n",
       "      <td>COSMETICS, LRL FLASH CAT EYELINER BLACK, .02 FZ</td>\n",
       "      <td>Grooming and Hygiene Products</td>\n",
       "      <td>[0, 0, 0, 0, 0, 0, 0, 0, 0, 0, 0, 0, 0, 1, 0, ...</td>\n",
       "    </tr>\n",
       "  </tbody>\n",
       "</table>\n",
       "</div>"
      ],
      "text/plain": [
       "    index  Unnamed: 0                                            feature  \\\n",
       "0      92          92  VITAMINS AND DIETARY SUPPLEMENTS, FLINTSTONES ...   \n",
       "1      44          44  COSMETICS, KISS EVER EZ LASHES DOUBLE PACK 11, EA   \n",
       "2      57          57  VITAMINS AND DIETARY SUPPLEMENTS, GNC MELATONI...   \n",
       "3      93          93  COSMETICS, ALMAY ONE CT MULTI BENEFIT MASC BLK...   \n",
       "4      97          97    COSMETICS, SINFUL SHINE GEL TECH LIQUID, 0.5 FZ   \n",
       "5      43          43    COSMETICS, EXPRESSIE BREAKING THE BOLD, 0.33 FZ   \n",
       "6      41          41        COSMETICS, ELF TINT FINISH POWDER LIGHT, EA   \n",
       "7      68          68        COSMETICS, SH MIRACLE GEL HYP-NAUTIC, .5 FZ   \n",
       "8       1           1  VITAMINS AND DIETARY SUPPLEMENTS, VITAMIN CALM...   \n",
       "9      77          77  COSMETICS, REVLON CANDID GLOW AP FND TAWNY, .7...   \n",
       "10      6           6  COSMETICS, CG EYELNR PENCIL PERF PT BLK BROWN ...   \n",
       "11     69          69  DEODORANT/ANTI-PERSPIRANT, SECRET CLR GEL OUTL...   \n",
       "12     95          95  COSMETICS, MAYBEL BROW ULTRA SLIM BLONDE, .003 FZ   \n",
       "13     72          72    COSMETICS, LRL FLASH CAT EYELINER BLACK, .02 FZ   \n",
       "\n",
       "                    Category Code  \\\n",
       "0             Dietary Supplements   \n",
       "1   Grooming and Hygiene Products   \n",
       "2             Dietary Supplements   \n",
       "3   Grooming and Hygiene Products   \n",
       "4   Grooming and Hygiene Products   \n",
       "5   Grooming and Hygiene Products   \n",
       "6   Grooming and Hygiene Products   \n",
       "7   Grooming and Hygiene Products   \n",
       "8             Dietary Supplements   \n",
       "9   Grooming and Hygiene Products   \n",
       "10  Grooming and Hygiene Products   \n",
       "11  Grooming and Hygiene Products   \n",
       "12  Grooming and Hygiene Products   \n",
       "13  Grooming and Hygiene Products   \n",
       "\n",
       "                                               target  \n",
       "0   [0, 0, 0, 0, 0, 0, 0, 0, 0, 1, 0, 0, 0, 0, 0, ...  \n",
       "1   [0, 0, 0, 0, 0, 0, 0, 0, 0, 0, 0, 0, 0, 1, 0, ...  \n",
       "2   [0, 0, 0, 0, 0, 0, 0, 0, 0, 1, 0, 0, 0, 0, 0, ...  \n",
       "3   [0, 0, 0, 0, 0, 0, 0, 0, 0, 0, 0, 0, 0, 1, 0, ...  \n",
       "4   [0, 0, 0, 0, 0, 0, 0, 0, 0, 0, 0, 0, 0, 1, 0, ...  \n",
       "5   [0, 0, 0, 0, 0, 0, 0, 0, 0, 0, 0, 0, 0, 1, 0, ...  \n",
       "6   [0, 0, 0, 0, 0, 0, 0, 0, 0, 0, 0, 0, 0, 1, 0, ...  \n",
       "7   [0, 0, 0, 0, 0, 0, 0, 0, 0, 0, 0, 0, 0, 1, 0, ...  \n",
       "8   [0, 0, 0, 0, 0, 0, 0, 0, 0, 1, 0, 0, 0, 0, 0, ...  \n",
       "9   [0, 0, 0, 0, 0, 0, 0, 0, 0, 0, 0, 0, 0, 1, 0, ...  \n",
       "10  [0, 0, 0, 0, 0, 0, 0, 0, 0, 0, 0, 0, 0, 1, 0, ...  \n",
       "11  [0, 0, 0, 0, 0, 0, 0, 0, 0, 0, 0, 0, 0, 1, 0, ...  \n",
       "12  [0, 0, 0, 0, 0, 0, 0, 0, 0, 0, 0, 0, 0, 1, 0, ...  \n",
       "13  [0, 0, 0, 0, 0, 0, 0, 0, 0, 0, 0, 0, 0, 1, 0, ...  "
      ]
     },
     "execution_count": 13,
     "metadata": {},
     "output_type": "execute_result"
    }
   ],
   "source": [
    "test_df"
   ]
  },
  {
   "cell_type": "code",
   "execution_count": null,
   "metadata": {},
   "outputs": [],
   "source": [
    "experiment = 'tonderai-experiment-0001'"
   ]
  },
  {
   "cell_type": "code",
   "execution_count": null,
   "metadata": {},
   "outputs": [],
   "source": [
    "model = 'src.model.pytorch.MultiClassClassifier'"
   ]
  },
  {
   "cell_type": "code",
   "execution_count": null,
   "metadata": {},
   "outputs": [
    {
     "name": "stderr",
     "output_type": "stream",
     "text": [
      "Global seed set to 7\n",
      "Some weights of the model checkpoint at distilbert-base-uncased were not used when initializing DistilBertModel: ['vocab_transform.bias', 'vocab_projector.weight', 'vocab_layer_norm.bias', 'vocab_transform.weight', 'vocab_layer_norm.weight', 'vocab_projector.bias']\n",
      "- This IS expected if you are initializing DistilBertModel from the checkpoint of a model trained on another task or with another architecture (e.g. initializing a BertForSequenceClassification model from a BertForPreTraining model).\n",
      "- This IS NOT expected if you are initializing DistilBertModel from the checkpoint of a model that you expect to be exactly identical (initializing a BertForSequenceClassification model from a BertForSequenceClassification model).\n"
     ]
    },
    {
     "data": {
      "text/plain": [
       "<src.processing.tokenize.TextDataset at 0x17461de80>"
      ]
     },
     "execution_count": 20,
     "metadata": {},
     "output_type": "execute_result"
    }
   ],
   "source": [
    "train_val_test.train_val_test(CONFIG, experiment, model)"
   ]
  },
  {
   "cell_type": "code",
   "execution_count": null,
   "metadata": {},
   "outputs": [
    {
     "data": {
      "text/plain": [
       "3"
      ]
     },
     "execution_count": 21,
     "metadata": {},
     "output_type": "execute_result"
    }
   ],
   "source": [
    "len(CONFIG[\"model\"][\"feature_cols\"])"
   ]
  },
  {
   "cell_type": "code",
   "execution_count": null,
   "metadata": {},
   "outputs": [
    {
     "name": "stderr",
     "output_type": "stream",
     "text": [
      "Global seed set to 7\n",
      "Some weights of the model checkpoint at distilbert-base-uncased were not used when initializing DistilBertModel: ['vocab_transform.bias', 'vocab_projector.weight', 'vocab_layer_norm.bias', 'vocab_transform.weight', 'vocab_layer_norm.weight', 'vocab_projector.bias']\n",
      "- This IS expected if you are initializing DistilBertModel from the checkpoint of a model trained on another task or with another architecture (e.g. initializing a BertForSequenceClassification model from a BertForPreTraining model).\n",
      "- This IS NOT expected if you are initializing DistilBertModel from the checkpoint of a model that you expect to be exactly identical (initializing a BertForSequenceClassification model from a BertForSequenceClassification model).\n"
     ]
    }
   ],
   "source": [
    "model = locate_model(model)(\n",
    "            seed=CONFIG[\"seed\"],\n",
    "            hidden_dim=CONFIG[\"model\"][\"hidden_dim\"],\n",
    "            learning_rate=CONFIG[\"model\"][\"learning_rate\"],\n",
    "            input_dim=1,\n",
    "            total_steps=CONFIG[\"model\"][\"batch_size\"] * train_df['feature'].shape[0] //\n",
    "                        CONFIG[\"model\"][\"batch_size\"],\n",
    "            output_dim=len(train_df['target'][0]))"
   ]
  },
  {
   "cell_type": "code",
   "execution_count": null,
   "metadata": {},
   "outputs": [
    {
     "data": {
      "text/plain": [
       "0     COSMETICS, MAYBEL FIT ME MATTE FNDT TRUE BEIGE...\n",
       "1      COSMETICS, ALM MICELLAR EYE MKUP RMVR PAD, 80 CT\n",
       "2          COSMETICS, GIORGIO RED EDT SPRAY WOMEN, 3 OZ\n",
       "3              COSMETICS, S CARE TWEEZERS SLANT TIP, EA\n",
       "4     COSMETICS, ALMAY SKIN PERF CPMF MAT FND ALMND,...\n",
       "5     COSMETICS, RVLN COLORSTAY CRM GEL LINER BLACK ...\n",
       "6         COSMETICS, NEU SKIN CLEAR LQ MUAT BEIGE, 1 OZ\n",
       "7     COSMETICS, RVLN SPR LUSTROUS LPSTK CRM RUM RAI...\n",
       "8           COSMETICS, LORE UNBELIEVA BROW BRUNETTE, EA\n",
       "9     COSMETICS, RIMMEL RIM LAST FIN BREATHE FNDT IV...\n",
       "10                 COSMETICS, ESSIE TLC A-GAME, 0.46 FZ\n",
       "11     COSMETICS, RIMMEL STY GLS 6HR LG CAPT ME, .18 OZ\n",
       "12    COSMETICS, OPI CLR HRK01 DANCING KEEPS ME ON M...\n",
       "13    COSMETICS, RIMMEL STAY MATTE LIQ LP PINK BLISS...\n",
       "14              COSMETICS, ALMAY LIP VIBES CALL OUT, EA\n",
       "15    COSMETICS, MAYBLN SHINE FREE LOOSE POWDER MEDI...\n",
       "16    COSMETICS, S HANSEN HARD AS NAILS ROCK BOTTOM,...\n",
       "17    COSMETICS, MAYBEL CS ULTIMATTE LIP MORE SCARLE...\n",
       "18    COSMETICS, RIMMEL STAY GLOSSY LG DORCHESTER RO...\n",
       "19     COSMETICS, OPI KITTY MY FAVORITE GAL PAL .5Z, EA\n",
       "20       COSMETICS, MW LSE PWDR SPF16  CRM NAT, 0.42 OZ\n",
       "21            COSMETICS, FROZEN II COLOR COLLECTION, EA\n",
       "22      COSMETICS, SALLY CLR THERAPY NP THERAPEWTER, EA\n",
       "23       COSMETICS, REV PHOTOREADY SHD P SPARKLE, .1 OZ\n",
       "24    DEODORANT/ANTI-PERSPIRANT, SURE A/P DEOD AERO ...\n",
       "25      COSMETICS, REV CS ULT SUEDE LIP STYLIST, .09 OZ\n",
       "26             COSMETICS, ELF 81195 ULT BRW PENCL R, EA\n",
       "27    COSMETICS, CG SIMPLYAGELESS FNDTN CREAMY NATUR...\n",
       "28    COSMETICS, LB ACTIVE MASCARA BLACK BROWN, 0.44 OZ\n",
       "29          COSMETICS, BROW FAST SCULPT- WARM BROWN, EA\n",
       "30     COSMETICS, RVLN CLR STY MAKE UP SAND BEIGE, 1 OZ\n",
       "31    COSMETICS, MILANI COLOR STATEMENT LPLNR FUCHSI...\n",
       "32    COSMETICS, PHYSIC ORG WEAR LIP TRMT TAWNY NUDE...\n",
       "Name: feature, dtype: object"
      ]
     },
     "execution_count": 23,
     "metadata": {},
     "output_type": "execute_result"
    }
   ],
   "source": [
    "train_df['feature']"
   ]
  },
  {
   "cell_type": "code",
   "execution_count": null,
   "metadata": {},
   "outputs": [
    {
     "data": {
      "text/html": [
       "<div>\n",
       "<style scoped>\n",
       "    .dataframe tbody tr th:only-of-type {\n",
       "        vertical-align: middle;\n",
       "    }\n",
       "\n",
       "    .dataframe tbody tr th {\n",
       "        vertical-align: top;\n",
       "    }\n",
       "\n",
       "    .dataframe thead th {\n",
       "        text-align: right;\n",
       "    }\n",
       "</style>\n",
       "<table border=\"1\" class=\"dataframe\">\n",
       "  <thead>\n",
       "    <tr style=\"text-align: right;\">\n",
       "      <th></th>\n",
       "      <th>index</th>\n",
       "      <th>Unnamed: 0</th>\n",
       "      <th>feature</th>\n",
       "      <th>Category Code</th>\n",
       "      <th>target</th>\n",
       "    </tr>\n",
       "  </thead>\n",
       "  <tbody>\n",
       "    <tr>\n",
       "      <th>0</th>\n",
       "      <td>83</td>\n",
       "      <td>83</td>\n",
       "      <td>COSMETICS, MAYBEL FIT ME MATTE FNDT TRUE BEIGE...</td>\n",
       "      <td>Grooming and Hygiene Products</td>\n",
       "      <td>[0, 0, 0, 0, 0, 0, 0, 0, 0, 0, 0, 0, 0, 0, 0, ...</td>\n",
       "    </tr>\n",
       "    <tr>\n",
       "      <th>1</th>\n",
       "      <td>74</td>\n",
       "      <td>74</td>\n",
       "      <td>COSMETICS, ALM MICELLAR EYE MKUP RMVR PAD, 80 CT</td>\n",
       "      <td>Grooming and Hygiene Products</td>\n",
       "      <td>[0, 0, 0, 0, 0, 0, 0, 0, 0, 0, 0, 0, 0, 0, 0, ...</td>\n",
       "    </tr>\n",
       "    <tr>\n",
       "      <th>2</th>\n",
       "      <td>94</td>\n",
       "      <td>94</td>\n",
       "      <td>COSMETICS, GIORGIO RED EDT SPRAY WOMEN, 3 OZ</td>\n",
       "      <td>Grooming and Hygiene Products</td>\n",
       "      <td>[0, 0, 0, 0, 0, 0, 0, 0, 0, 0, 0, 0, 0, 0, 0, ...</td>\n",
       "    </tr>\n",
       "    <tr>\n",
       "      <th>3</th>\n",
       "      <td>77</td>\n",
       "      <td>77</td>\n",
       "      <td>COSMETICS, S CARE TWEEZERS SLANT TIP, EA</td>\n",
       "      <td>Grooming and Hygiene Products</td>\n",
       "      <td>[0, 0, 0, 0, 0, 0, 0, 0, 0, 0, 0, 0, 0, 0, 0, ...</td>\n",
       "    </tr>\n",
       "    <tr>\n",
       "      <th>4</th>\n",
       "      <td>1</td>\n",
       "      <td>1</td>\n",
       "      <td>COSMETICS, ALMAY SKIN PERF CPMF MAT FND ALMND,...</td>\n",
       "      <td>Grooming and Hygiene Products</td>\n",
       "      <td>[0, 0, 0, 0, 0, 0, 0, 0, 0, 0, 0, 0, 0, 0, 0, ...</td>\n",
       "    </tr>\n",
       "    <tr>\n",
       "      <th>5</th>\n",
       "      <td>48</td>\n",
       "      <td>48</td>\n",
       "      <td>COSMETICS, RVLN COLORSTAY CRM GEL LINER BLACK ...</td>\n",
       "      <td>Grooming and Hygiene Products</td>\n",
       "      <td>[0, 0, 0, 0, 0, 0, 0, 0, 0, 0, 0, 0, 0, 0, 0, ...</td>\n",
       "    </tr>\n",
       "    <tr>\n",
       "      <th>6</th>\n",
       "      <td>30</td>\n",
       "      <td>30</td>\n",
       "      <td>COSMETICS, NEU SKIN CLEAR LQ MUAT BEIGE, 1 OZ</td>\n",
       "      <td>Grooming and Hygiene Products</td>\n",
       "      <td>[0, 0, 0, 0, 0, 0, 0, 0, 0, 0, 0, 0, 0, 0, 0, ...</td>\n",
       "    </tr>\n",
       "    <tr>\n",
       "      <th>7</th>\n",
       "      <td>85</td>\n",
       "      <td>85</td>\n",
       "      <td>COSMETICS, RVLN SPR LUSTROUS LPSTK CRM RUM RAI...</td>\n",
       "      <td>Grooming and Hygiene Products</td>\n",
       "      <td>[0, 0, 0, 0, 0, 0, 0, 0, 0, 0, 0, 0, 0, 0, 0, ...</td>\n",
       "    </tr>\n",
       "    <tr>\n",
       "      <th>8</th>\n",
       "      <td>70</td>\n",
       "      <td>70</td>\n",
       "      <td>COSMETICS, LORE UNBELIEVA BROW BRUNETTE, EA</td>\n",
       "      <td>Grooming and Hygiene Products</td>\n",
       "      <td>[0, 0, 0, 0, 0, 0, 0, 0, 0, 0, 0, 0, 0, 0, 0, ...</td>\n",
       "    </tr>\n",
       "    <tr>\n",
       "      <th>9</th>\n",
       "      <td>87</td>\n",
       "      <td>87</td>\n",
       "      <td>COSMETICS, RIMMEL RIM LAST FIN BREATHE FNDT IV...</td>\n",
       "      <td>Grooming and Hygiene Products</td>\n",
       "      <td>[0, 0, 0, 0, 0, 0, 0, 0, 0, 0, 0, 0, 0, 0, 0, ...</td>\n",
       "    </tr>\n",
       "    <tr>\n",
       "      <th>10</th>\n",
       "      <td>78</td>\n",
       "      <td>78</td>\n",
       "      <td>COSMETICS, ESSIE TLC A-GAME, 0.46 FZ</td>\n",
       "      <td>Grooming and Hygiene Products</td>\n",
       "      <td>[0, 0, 0, 0, 0, 0, 0, 0, 0, 0, 0, 0, 0, 0, 0, ...</td>\n",
       "    </tr>\n",
       "    <tr>\n",
       "      <th>11</th>\n",
       "      <td>35</td>\n",
       "      <td>35</td>\n",
       "      <td>COSMETICS, RIMMEL STY GLS 6HR LG CAPT ME, .18 OZ</td>\n",
       "      <td>Grooming and Hygiene Products</td>\n",
       "      <td>[0, 0, 0, 0, 0, 0, 0, 0, 0, 0, 0, 0, 0, 0, 0, ...</td>\n",
       "    </tr>\n",
       "    <tr>\n",
       "      <th>12</th>\n",
       "      <td>61</td>\n",
       "      <td>61</td>\n",
       "      <td>COSMETICS, OPI CLR HRK01 DANCING KEEPS ME ON M...</td>\n",
       "      <td>Grooming and Hygiene Products</td>\n",
       "      <td>[0, 0, 0, 0, 0, 0, 0, 0, 0, 0, 0, 0, 0, 0, 0, ...</td>\n",
       "    </tr>\n",
       "    <tr>\n",
       "      <th>13</th>\n",
       "      <td>57</td>\n",
       "      <td>57</td>\n",
       "      <td>COSMETICS, RIMMEL STAY MATTE LIQ LP PINK BLISS...</td>\n",
       "      <td>Grooming and Hygiene Products</td>\n",
       "      <td>[0, 0, 0, 0, 0, 0, 0, 0, 0, 0, 0, 0, 0, 0, 0, ...</td>\n",
       "    </tr>\n",
       "    <tr>\n",
       "      <th>14</th>\n",
       "      <td>37</td>\n",
       "      <td>37</td>\n",
       "      <td>COSMETICS, ALMAY LIP VIBES CALL OUT, EA</td>\n",
       "      <td>Grooming and Hygiene Products</td>\n",
       "      <td>[0, 0, 0, 0, 0, 0, 0, 0, 0, 0, 0, 0, 0, 0, 0, ...</td>\n",
       "    </tr>\n",
       "    <tr>\n",
       "      <th>15</th>\n",
       "      <td>63</td>\n",
       "      <td>63</td>\n",
       "      <td>COSMETICS, MAYBLN SHINE FREE LOOSE POWDER MEDI...</td>\n",
       "      <td>Grooming and Hygiene Products</td>\n",
       "      <td>[0, 0, 0, 0, 0, 0, 0, 0, 0, 0, 0, 0, 0, 0, 0, ...</td>\n",
       "    </tr>\n",
       "    <tr>\n",
       "      <th>16</th>\n",
       "      <td>66</td>\n",
       "      <td>66</td>\n",
       "      <td>COSMETICS, S HANSEN HARD AS NAILS ROCK BOTTOM,...</td>\n",
       "      <td>Grooming and Hygiene Products</td>\n",
       "      <td>[0, 0, 0, 0, 0, 0, 0, 0, 0, 0, 0, 0, 0, 0, 0, ...</td>\n",
       "    </tr>\n",
       "    <tr>\n",
       "      <th>17</th>\n",
       "      <td>89</td>\n",
       "      <td>89</td>\n",
       "      <td>COSMETICS, MAYBEL CS ULTIMATTE LIP MORE SCARLE...</td>\n",
       "      <td>Grooming and Hygiene Products</td>\n",
       "      <td>[0, 0, 0, 0, 0, 0, 0, 0, 0, 0, 0, 0, 0, 0, 0, ...</td>\n",
       "    </tr>\n",
       "    <tr>\n",
       "      <th>18</th>\n",
       "      <td>28</td>\n",
       "      <td>28</td>\n",
       "      <td>COSMETICS, RIMMEL STAY GLOSSY LG DORCHESTER RO...</td>\n",
       "      <td>Grooming and Hygiene Products</td>\n",
       "      <td>[0, 0, 0, 0, 0, 0, 0, 0, 0, 0, 0, 0, 0, 0, 0, ...</td>\n",
       "    </tr>\n",
       "    <tr>\n",
       "      <th>19</th>\n",
       "      <td>65</td>\n",
       "      <td>65</td>\n",
       "      <td>COSMETICS, OPI KITTY MY FAVORITE GAL PAL .5Z, EA</td>\n",
       "      <td>Grooming and Hygiene Products</td>\n",
       "      <td>[0, 0, 0, 0, 0, 0, 0, 0, 0, 0, 0, 0, 0, 0, 0, ...</td>\n",
       "    </tr>\n",
       "    <tr>\n",
       "      <th>20</th>\n",
       "      <td>99</td>\n",
       "      <td>99</td>\n",
       "      <td>COSMETICS, MW LSE PWDR SPF16  CRM NAT, 0.42 OZ</td>\n",
       "      <td>Grooming and Hygiene Products</td>\n",
       "      <td>[0, 0, 0, 0, 0, 0, 0, 0, 0, 0, 0, 0, 0, 0, 0, ...</td>\n",
       "    </tr>\n",
       "    <tr>\n",
       "      <th>21</th>\n",
       "      <td>36</td>\n",
       "      <td>36</td>\n",
       "      <td>COSMETICS, FROZEN II COLOR COLLECTION, EA</td>\n",
       "      <td>Grooming and Hygiene Products</td>\n",
       "      <td>[0, 0, 0, 0, 0, 0, 0, 0, 0, 0, 0, 0, 0, 0, 0, ...</td>\n",
       "    </tr>\n",
       "    <tr>\n",
       "      <th>22</th>\n",
       "      <td>45</td>\n",
       "      <td>45</td>\n",
       "      <td>COSMETICS, SALLY CLR THERAPY NP THERAPEWTER, EA</td>\n",
       "      <td>Grooming and Hygiene Products</td>\n",
       "      <td>[0, 0, 0, 0, 0, 0, 0, 0, 0, 0, 0, 0, 0, 0, 0, ...</td>\n",
       "    </tr>\n",
       "    <tr>\n",
       "      <th>23</th>\n",
       "      <td>5</td>\n",
       "      <td>5</td>\n",
       "      <td>COSMETICS, REV PHOTOREADY SHD P SPARKLE, .1 OZ</td>\n",
       "      <td>Grooming and Hygiene Products</td>\n",
       "      <td>[0, 0, 0, 0, 0, 0, 0, 0, 0, 0, 0, 0, 0, 0, 0, ...</td>\n",
       "    </tr>\n",
       "    <tr>\n",
       "      <th>24</th>\n",
       "      <td>73</td>\n",
       "      <td>73</td>\n",
       "      <td>DEODORANT/ANTI-PERSPIRANT, SURE A/P DEOD AERO ...</td>\n",
       "      <td>Grooming and Hygiene Products</td>\n",
       "      <td>[0, 0, 0, 0, 0, 0, 0, 0, 0, 0, 0, 0, 0, 0, 0, ...</td>\n",
       "    </tr>\n",
       "    <tr>\n",
       "      <th>25</th>\n",
       "      <td>39</td>\n",
       "      <td>39</td>\n",
       "      <td>COSMETICS, REV CS ULT SUEDE LIP STYLIST, .09 OZ</td>\n",
       "      <td>Grooming and Hygiene Products</td>\n",
       "      <td>[0, 0, 0, 0, 0, 0, 0, 0, 0, 0, 0, 0, 0, 0, 0, ...</td>\n",
       "    </tr>\n",
       "    <tr>\n",
       "      <th>26</th>\n",
       "      <td>21</td>\n",
       "      <td>21</td>\n",
       "      <td>COSMETICS, ELF 81195 ULT BRW PENCL R, EA</td>\n",
       "      <td>Grooming and Hygiene Products</td>\n",
       "      <td>[0, 0, 0, 0, 0, 0, 0, 0, 0, 0, 0, 0, 0, 0, 0, ...</td>\n",
       "    </tr>\n",
       "    <tr>\n",
       "      <th>27</th>\n",
       "      <td>68</td>\n",
       "      <td>68</td>\n",
       "      <td>COSMETICS, CG SIMPLYAGELESS FNDTN CREAMY NATUR...</td>\n",
       "      <td>Grooming and Hygiene Products</td>\n",
       "      <td>[0, 0, 0, 0, 0, 0, 0, 0, 0, 0, 0, 0, 0, 0, 0, ...</td>\n",
       "    </tr>\n",
       "    <tr>\n",
       "      <th>28</th>\n",
       "      <td>69</td>\n",
       "      <td>69</td>\n",
       "      <td>COSMETICS, LB ACTIVE MASCARA BLACK BROWN, 0.44 OZ</td>\n",
       "      <td>Grooming and Hygiene Products</td>\n",
       "      <td>[0, 0, 0, 0, 0, 0, 0, 0, 0, 0, 0, 0, 0, 0, 0, ...</td>\n",
       "    </tr>\n",
       "    <tr>\n",
       "      <th>29</th>\n",
       "      <td>41</td>\n",
       "      <td>41</td>\n",
       "      <td>COSMETICS, BROW FAST SCULPT- WARM BROWN, EA</td>\n",
       "      <td>Grooming and Hygiene Products</td>\n",
       "      <td>[0, 0, 0, 0, 0, 0, 0, 0, 0, 0, 0, 0, 0, 0, 0, ...</td>\n",
       "    </tr>\n",
       "    <tr>\n",
       "      <th>30</th>\n",
       "      <td>8</td>\n",
       "      <td>8</td>\n",
       "      <td>COSMETICS, RVLN CLR STY MAKE UP SAND BEIGE, 1 OZ</td>\n",
       "      <td>Grooming and Hygiene Products</td>\n",
       "      <td>[0, 0, 0, 0, 0, 0, 0, 0, 0, 0, 0, 0, 0, 0, 0, ...</td>\n",
       "    </tr>\n",
       "    <tr>\n",
       "      <th>31</th>\n",
       "      <td>43</td>\n",
       "      <td>43</td>\n",
       "      <td>COSMETICS, MILANI COLOR STATEMENT LPLNR FUCHSI...</td>\n",
       "      <td>Grooming and Hygiene Products</td>\n",
       "      <td>[0, 0, 0, 0, 0, 0, 0, 0, 0, 0, 0, 0, 0, 0, 0, ...</td>\n",
       "    </tr>\n",
       "    <tr>\n",
       "      <th>32</th>\n",
       "      <td>19</td>\n",
       "      <td>19</td>\n",
       "      <td>COSMETICS, PHYSIC ORG WEAR LIP TRMT TAWNY NUDE...</td>\n",
       "      <td>Grooming and Hygiene Products</td>\n",
       "      <td>[0, 0, 0, 0, 0, 0, 0, 0, 0, 0, 0, 0, 0, 0, 0, ...</td>\n",
       "    </tr>\n",
       "  </tbody>\n",
       "</table>\n",
       "</div>"
      ],
      "text/plain": [
       "    index  Unnamed: 0                                            feature  \\\n",
       "0      83          83  COSMETICS, MAYBEL FIT ME MATTE FNDT TRUE BEIGE...   \n",
       "1      74          74   COSMETICS, ALM MICELLAR EYE MKUP RMVR PAD, 80 CT   \n",
       "2      94          94       COSMETICS, GIORGIO RED EDT SPRAY WOMEN, 3 OZ   \n",
       "3      77          77           COSMETICS, S CARE TWEEZERS SLANT TIP, EA   \n",
       "4       1           1  COSMETICS, ALMAY SKIN PERF CPMF MAT FND ALMND,...   \n",
       "5      48          48  COSMETICS, RVLN COLORSTAY CRM GEL LINER BLACK ...   \n",
       "6      30          30      COSMETICS, NEU SKIN CLEAR LQ MUAT BEIGE, 1 OZ   \n",
       "7      85          85  COSMETICS, RVLN SPR LUSTROUS LPSTK CRM RUM RAI...   \n",
       "8      70          70        COSMETICS, LORE UNBELIEVA BROW BRUNETTE, EA   \n",
       "9      87          87  COSMETICS, RIMMEL RIM LAST FIN BREATHE FNDT IV...   \n",
       "10     78          78               COSMETICS, ESSIE TLC A-GAME, 0.46 FZ   \n",
       "11     35          35   COSMETICS, RIMMEL STY GLS 6HR LG CAPT ME, .18 OZ   \n",
       "12     61          61  COSMETICS, OPI CLR HRK01 DANCING KEEPS ME ON M...   \n",
       "13     57          57  COSMETICS, RIMMEL STAY MATTE LIQ LP PINK BLISS...   \n",
       "14     37          37            COSMETICS, ALMAY LIP VIBES CALL OUT, EA   \n",
       "15     63          63  COSMETICS, MAYBLN SHINE FREE LOOSE POWDER MEDI...   \n",
       "16     66          66  COSMETICS, S HANSEN HARD AS NAILS ROCK BOTTOM,...   \n",
       "17     89          89  COSMETICS, MAYBEL CS ULTIMATTE LIP MORE SCARLE...   \n",
       "18     28          28  COSMETICS, RIMMEL STAY GLOSSY LG DORCHESTER RO...   \n",
       "19     65          65   COSMETICS, OPI KITTY MY FAVORITE GAL PAL .5Z, EA   \n",
       "20     99          99     COSMETICS, MW LSE PWDR SPF16  CRM NAT, 0.42 OZ   \n",
       "21     36          36          COSMETICS, FROZEN II COLOR COLLECTION, EA   \n",
       "22     45          45    COSMETICS, SALLY CLR THERAPY NP THERAPEWTER, EA   \n",
       "23      5           5     COSMETICS, REV PHOTOREADY SHD P SPARKLE, .1 OZ   \n",
       "24     73          73  DEODORANT/ANTI-PERSPIRANT, SURE A/P DEOD AERO ...   \n",
       "25     39          39    COSMETICS, REV CS ULT SUEDE LIP STYLIST, .09 OZ   \n",
       "26     21          21           COSMETICS, ELF 81195 ULT BRW PENCL R, EA   \n",
       "27     68          68  COSMETICS, CG SIMPLYAGELESS FNDTN CREAMY NATUR...   \n",
       "28     69          69  COSMETICS, LB ACTIVE MASCARA BLACK BROWN, 0.44 OZ   \n",
       "29     41          41        COSMETICS, BROW FAST SCULPT- WARM BROWN, EA   \n",
       "30      8           8   COSMETICS, RVLN CLR STY MAKE UP SAND BEIGE, 1 OZ   \n",
       "31     43          43  COSMETICS, MILANI COLOR STATEMENT LPLNR FUCHSI...   \n",
       "32     19          19  COSMETICS, PHYSIC ORG WEAR LIP TRMT TAWNY NUDE...   \n",
       "\n",
       "                    Category Code  \\\n",
       "0   Grooming and Hygiene Products   \n",
       "1   Grooming and Hygiene Products   \n",
       "2   Grooming and Hygiene Products   \n",
       "3   Grooming and Hygiene Products   \n",
       "4   Grooming and Hygiene Products   \n",
       "5   Grooming and Hygiene Products   \n",
       "6   Grooming and Hygiene Products   \n",
       "7   Grooming and Hygiene Products   \n",
       "8   Grooming and Hygiene Products   \n",
       "9   Grooming and Hygiene Products   \n",
       "10  Grooming and Hygiene Products   \n",
       "11  Grooming and Hygiene Products   \n",
       "12  Grooming and Hygiene Products   \n",
       "13  Grooming and Hygiene Products   \n",
       "14  Grooming and Hygiene Products   \n",
       "15  Grooming and Hygiene Products   \n",
       "16  Grooming and Hygiene Products   \n",
       "17  Grooming and Hygiene Products   \n",
       "18  Grooming and Hygiene Products   \n",
       "19  Grooming and Hygiene Products   \n",
       "20  Grooming and Hygiene Products   \n",
       "21  Grooming and Hygiene Products   \n",
       "22  Grooming and Hygiene Products   \n",
       "23  Grooming and Hygiene Products   \n",
       "24  Grooming and Hygiene Products   \n",
       "25  Grooming and Hygiene Products   \n",
       "26  Grooming and Hygiene Products   \n",
       "27  Grooming and Hygiene Products   \n",
       "28  Grooming and Hygiene Products   \n",
       "29  Grooming and Hygiene Products   \n",
       "30  Grooming and Hygiene Products   \n",
       "31  Grooming and Hygiene Products   \n",
       "32  Grooming and Hygiene Products   \n",
       "\n",
       "                                               target  \n",
       "0   [0, 0, 0, 0, 0, 0, 0, 0, 0, 0, 0, 0, 0, 0, 0, ...  \n",
       "1   [0, 0, 0, 0, 0, 0, 0, 0, 0, 0, 0, 0, 0, 0, 0, ...  \n",
       "2   [0, 0, 0, 0, 0, 0, 0, 0, 0, 0, 0, 0, 0, 0, 0, ...  \n",
       "3   [0, 0, 0, 0, 0, 0, 0, 0, 0, 0, 0, 0, 0, 0, 0, ...  \n",
       "4   [0, 0, 0, 0, 0, 0, 0, 0, 0, 0, 0, 0, 0, 0, 0, ...  \n",
       "5   [0, 0, 0, 0, 0, 0, 0, 0, 0, 0, 0, 0, 0, 0, 0, ...  \n",
       "6   [0, 0, 0, 0, 0, 0, 0, 0, 0, 0, 0, 0, 0, 0, 0, ...  \n",
       "7   [0, 0, 0, 0, 0, 0, 0, 0, 0, 0, 0, 0, 0, 0, 0, ...  \n",
       "8   [0, 0, 0, 0, 0, 0, 0, 0, 0, 0, 0, 0, 0, 0, 0, ...  \n",
       "9   [0, 0, 0, 0, 0, 0, 0, 0, 0, 0, 0, 0, 0, 0, 0, ...  \n",
       "10  [0, 0, 0, 0, 0, 0, 0, 0, 0, 0, 0, 0, 0, 0, 0, ...  \n",
       "11  [0, 0, 0, 0, 0, 0, 0, 0, 0, 0, 0, 0, 0, 0, 0, ...  \n",
       "12  [0, 0, 0, 0, 0, 0, 0, 0, 0, 0, 0, 0, 0, 0, 0, ...  \n",
       "13  [0, 0, 0, 0, 0, 0, 0, 0, 0, 0, 0, 0, 0, 0, 0, ...  \n",
       "14  [0, 0, 0, 0, 0, 0, 0, 0, 0, 0, 0, 0, 0, 0, 0, ...  \n",
       "15  [0, 0, 0, 0, 0, 0, 0, 0, 0, 0, 0, 0, 0, 0, 0, ...  \n",
       "16  [0, 0, 0, 0, 0, 0, 0, 0, 0, 0, 0, 0, 0, 0, 0, ...  \n",
       "17  [0, 0, 0, 0, 0, 0, 0, 0, 0, 0, 0, 0, 0, 0, 0, ...  \n",
       "18  [0, 0, 0, 0, 0, 0, 0, 0, 0, 0, 0, 0, 0, 0, 0, ...  \n",
       "19  [0, 0, 0, 0, 0, 0, 0, 0, 0, 0, 0, 0, 0, 0, 0, ...  \n",
       "20  [0, 0, 0, 0, 0, 0, 0, 0, 0, 0, 0, 0, 0, 0, 0, ...  \n",
       "21  [0, 0, 0, 0, 0, 0, 0, 0, 0, 0, 0, 0, 0, 0, 0, ...  \n",
       "22  [0, 0, 0, 0, 0, 0, 0, 0, 0, 0, 0, 0, 0, 0, 0, ...  \n",
       "23  [0, 0, 0, 0, 0, 0, 0, 0, 0, 0, 0, 0, 0, 0, 0, ...  \n",
       "24  [0, 0, 0, 0, 0, 0, 0, 0, 0, 0, 0, 0, 0, 0, 0, ...  \n",
       "25  [0, 0, 0, 0, 0, 0, 0, 0, 0, 0, 0, 0, 0, 0, 0, ...  \n",
       "26  [0, 0, 0, 0, 0, 0, 0, 0, 0, 0, 0, 0, 0, 0, 0, ...  \n",
       "27  [0, 0, 0, 0, 0, 0, 0, 0, 0, 0, 0, 0, 0, 0, 0, ...  \n",
       "28  [0, 0, 0, 0, 0, 0, 0, 0, 0, 0, 0, 0, 0, 0, 0, ...  \n",
       "29  [0, 0, 0, 0, 0, 0, 0, 0, 0, 0, 0, 0, 0, 0, 0, ...  \n",
       "30  [0, 0, 0, 0, 0, 0, 0, 0, 0, 0, 0, 0, 0, 0, 0, ...  \n",
       "31  [0, 0, 0, 0, 0, 0, 0, 0, 0, 0, 0, 0, 0, 0, 0, ...  \n",
       "32  [0, 0, 0, 0, 0, 0, 0, 0, 0, 0, 0, 0, 0, 0, 0, ...  "
      ]
     },
     "execution_count": 70,
     "metadata": {},
     "output_type": "execute_result"
    }
   ],
   "source": [
    "train_df[]"
   ]
  },
  {
   "cell_type": "code",
   "execution_count": null,
   "metadata": {},
   "outputs": [],
   "source": [
    "tokenizer = DistilBertTokenizer.from_pretrained('distilbert-base-uncased')\n",
    "\n",
    "        # Create data loaders\n",
    "train_tensor = tokenize.TextDataset(train_df, tokenizer, CONFIG['model']['max_len'])"
   ]
  },
  {
   "cell_type": "code",
   "execution_count": null,
   "metadata": {},
   "outputs": [
    {
     "data": {
      "text/plain": [
       "tensor([[0, 0, 0, 0, 0, 0, 0, 0, 0, 0, 0, 0, 0, 0, 0, 1, 0, 0, 0, 0, 0, 0, 0],\n",
       "        [0, 0, 0, 0, 0, 0, 0, 0, 0, 0, 0, 0, 0, 0, 0, 1, 0, 0, 0, 0, 0, 0, 0],\n",
       "        [0, 0, 0, 0, 0, 0, 0, 0, 0, 0, 0, 0, 0, 0, 0, 1, 0, 0, 0, 0, 0, 0, 0],\n",
       "        [0, 0, 0, 0, 0, 0, 0, 0, 0, 0, 0, 0, 0, 0, 0, 1, 0, 0, 0, 0, 0, 0, 0],\n",
       "        [0, 0, 0, 0, 0, 0, 0, 0, 0, 0, 0, 0, 0, 0, 0, 1, 0, 0, 0, 0, 0, 0, 0],\n",
       "        [0, 0, 0, 0, 0, 0, 0, 0, 0, 0, 0, 0, 0, 0, 0, 1, 0, 0, 0, 0, 0, 0, 0],\n",
       "        [0, 0, 0, 0, 0, 0, 0, 0, 0, 0, 0, 0, 0, 0, 0, 1, 0, 0, 0, 0, 0, 0, 0],\n",
       "        [0, 0, 0, 0, 0, 0, 0, 0, 0, 0, 0, 0, 0, 0, 0, 1, 0, 0, 0, 0, 0, 0, 0],\n",
       "        [0, 0, 0, 0, 0, 0, 0, 0, 0, 0, 0, 0, 0, 0, 0, 1, 0, 0, 0, 0, 0, 0, 0],\n",
       "        [0, 0, 0, 0, 0, 0, 0, 0, 0, 0, 0, 0, 0, 0, 0, 1, 0, 0, 0, 0, 0, 0, 0],\n",
       "        [0, 0, 0, 0, 0, 0, 0, 0, 0, 0, 0, 0, 0, 0, 0, 1, 0, 0, 0, 0, 0, 0, 0],\n",
       "        [0, 0, 0, 0, 0, 0, 0, 0, 0, 0, 0, 0, 0, 0, 0, 1, 0, 0, 0, 0, 0, 0, 0],\n",
       "        [0, 0, 0, 0, 0, 0, 0, 0, 0, 0, 0, 0, 0, 0, 0, 1, 0, 0, 0, 0, 0, 0, 0],\n",
       "        [0, 0, 0, 0, 0, 0, 0, 0, 0, 0, 0, 0, 0, 0, 0, 1, 0, 0, 0, 0, 0, 0, 0],\n",
       "        [0, 0, 0, 0, 0, 0, 0, 0, 0, 0, 0, 0, 0, 0, 0, 1, 0, 0, 0, 0, 0, 0, 0],\n",
       "        [0, 0, 0, 0, 0, 0, 0, 0, 0, 0, 0, 0, 0, 0, 0, 1, 0, 0, 0, 0, 0, 0, 0],\n",
       "        [0, 0, 0, 0, 0, 0, 0, 0, 0, 0, 0, 0, 0, 0, 0, 1, 0, 0, 0, 0, 0, 0, 0],\n",
       "        [0, 0, 0, 0, 0, 0, 0, 0, 0, 0, 0, 0, 0, 0, 0, 1, 0, 0, 0, 0, 0, 0, 0],\n",
       "        [0, 0, 0, 0, 0, 0, 0, 0, 0, 0, 0, 0, 0, 0, 0, 1, 0, 0, 0, 0, 0, 0, 0],\n",
       "        [0, 0, 0, 0, 0, 0, 0, 0, 0, 0, 0, 0, 0, 0, 0, 1, 0, 0, 0, 0, 0, 0, 0],\n",
       "        [0, 0, 0, 0, 0, 0, 0, 0, 0, 0, 0, 0, 0, 0, 0, 1, 0, 0, 0, 0, 0, 0, 0],\n",
       "        [0, 0, 0, 0, 0, 0, 0, 0, 0, 0, 0, 0, 0, 0, 0, 1, 0, 0, 0, 0, 0, 0, 0],\n",
       "        [0, 0, 0, 0, 0, 0, 0, 0, 0, 0, 0, 0, 0, 0, 0, 1, 0, 0, 0, 0, 0, 0, 0],\n",
       "        [0, 0, 0, 0, 0, 0, 0, 0, 0, 0, 0, 0, 0, 0, 0, 1, 0, 0, 0, 0, 0, 0, 0],\n",
       "        [0, 0, 0, 0, 0, 0, 0, 0, 0, 0, 0, 0, 0, 0, 0, 1, 0, 0, 0, 0, 0, 0, 0],\n",
       "        [0, 0, 0, 0, 0, 0, 0, 0, 0, 0, 0, 0, 0, 0, 0, 1, 0, 0, 0, 0, 0, 0, 0],\n",
       "        [0, 0, 0, 0, 0, 0, 0, 0, 0, 0, 0, 0, 0, 0, 0, 1, 0, 0, 0, 0, 0, 0, 0],\n",
       "        [0, 0, 0, 0, 0, 0, 0, 0, 0, 0, 0, 0, 0, 0, 0, 1, 0, 0, 0, 0, 0, 0, 0],\n",
       "        [0, 0, 0, 0, 0, 0, 0, 0, 0, 0, 0, 0, 0, 0, 0, 1, 0, 0, 0, 0, 0, 0, 0],\n",
       "        [0, 0, 0, 0, 0, 0, 0, 0, 0, 0, 0, 0, 0, 0, 0, 1, 0, 0, 0, 0, 0, 0, 0],\n",
       "        [0, 0, 0, 0, 0, 0, 0, 0, 0, 0, 0, 0, 0, 0, 0, 1, 0, 0, 0, 0, 0, 0, 0],\n",
       "        [0, 0, 0, 0, 0, 0, 0, 0, 0, 0, 0, 0, 0, 0, 0, 1, 0, 0, 0, 0, 0, 0, 0],\n",
       "        [0, 0, 0, 0, 0, 0, 0, 0, 0, 0, 0, 0, 0, 0, 0, 1, 0, 0, 0, 0, 0, 0, 0]])"
      ]
     },
     "execution_count": 69,
     "metadata": {},
     "output_type": "execute_result"
    }
   ],
   "source": [
    "train_tensor.labels"
   ]
  },
  {
   "cell_type": "code",
   "execution_count": null,
   "metadata": {},
   "outputs": [
    {
     "data": {
      "text/plain": [
       "MultiClassClassifier(\n",
       "  (model): DistilBertModel(\n",
       "    (embeddings): Embeddings(\n",
       "      (word_embeddings): Embedding(30522, 768, padding_idx=0)\n",
       "      (position_embeddings): Embedding(512, 768)\n",
       "      (LayerNorm): LayerNorm((768,), eps=1e-12, elementwise_affine=True)\n",
       "      (dropout): Dropout(p=0.1, inplace=False)\n",
       "    )\n",
       "    (transformer): Transformer(\n",
       "      (layer): ModuleList(\n",
       "        (0): TransformerBlock(\n",
       "          (attention): MultiHeadSelfAttention(\n",
       "            (dropout): Dropout(p=0.1, inplace=False)\n",
       "            (q_lin): Linear(in_features=768, out_features=768, bias=True)\n",
       "            (k_lin): Linear(in_features=768, out_features=768, bias=True)\n",
       "            (v_lin): Linear(in_features=768, out_features=768, bias=True)\n",
       "            (out_lin): Linear(in_features=768, out_features=768, bias=True)\n",
       "          )\n",
       "          (sa_layer_norm): LayerNorm((768,), eps=1e-12, elementwise_affine=True)\n",
       "          (ffn): FFN(\n",
       "            (dropout): Dropout(p=0.1, inplace=False)\n",
       "            (lin1): Linear(in_features=768, out_features=3072, bias=True)\n",
       "            (lin2): Linear(in_features=3072, out_features=768, bias=True)\n",
       "            (activation): GELUActivation()\n",
       "          )\n",
       "          (output_layer_norm): LayerNorm((768,), eps=1e-12, elementwise_affine=True)\n",
       "        )\n",
       "        (1): TransformerBlock(\n",
       "          (attention): MultiHeadSelfAttention(\n",
       "            (dropout): Dropout(p=0.1, inplace=False)\n",
       "            (q_lin): Linear(in_features=768, out_features=768, bias=True)\n",
       "            (k_lin): Linear(in_features=768, out_features=768, bias=True)\n",
       "            (v_lin): Linear(in_features=768, out_features=768, bias=True)\n",
       "            (out_lin): Linear(in_features=768, out_features=768, bias=True)\n",
       "          )\n",
       "          (sa_layer_norm): LayerNorm((768,), eps=1e-12, elementwise_affine=True)\n",
       "          (ffn): FFN(\n",
       "            (dropout): Dropout(p=0.1, inplace=False)\n",
       "            (lin1): Linear(in_features=768, out_features=3072, bias=True)\n",
       "            (lin2): Linear(in_features=3072, out_features=768, bias=True)\n",
       "            (activation): GELUActivation()\n",
       "          )\n",
       "          (output_layer_norm): LayerNorm((768,), eps=1e-12, elementwise_affine=True)\n",
       "        )\n",
       "        (2): TransformerBlock(\n",
       "          (attention): MultiHeadSelfAttention(\n",
       "            (dropout): Dropout(p=0.1, inplace=False)\n",
       "            (q_lin): Linear(in_features=768, out_features=768, bias=True)\n",
       "            (k_lin): Linear(in_features=768, out_features=768, bias=True)\n",
       "            (v_lin): Linear(in_features=768, out_features=768, bias=True)\n",
       "            (out_lin): Linear(in_features=768, out_features=768, bias=True)\n",
       "          )\n",
       "          (sa_layer_norm): LayerNorm((768,), eps=1e-12, elementwise_affine=True)\n",
       "          (ffn): FFN(\n",
       "            (dropout): Dropout(p=0.1, inplace=False)\n",
       "            (lin1): Linear(in_features=768, out_features=3072, bias=True)\n",
       "            (lin2): Linear(in_features=3072, out_features=768, bias=True)\n",
       "            (activation): GELUActivation()\n",
       "          )\n",
       "          (output_layer_norm): LayerNorm((768,), eps=1e-12, elementwise_affine=True)\n",
       "        )\n",
       "        (3): TransformerBlock(\n",
       "          (attention): MultiHeadSelfAttention(\n",
       "            (dropout): Dropout(p=0.1, inplace=False)\n",
       "            (q_lin): Linear(in_features=768, out_features=768, bias=True)\n",
       "            (k_lin): Linear(in_features=768, out_features=768, bias=True)\n",
       "            (v_lin): Linear(in_features=768, out_features=768, bias=True)\n",
       "            (out_lin): Linear(in_features=768, out_features=768, bias=True)\n",
       "          )\n",
       "          (sa_layer_norm): LayerNorm((768,), eps=1e-12, elementwise_affine=True)\n",
       "          (ffn): FFN(\n",
       "            (dropout): Dropout(p=0.1, inplace=False)\n",
       "            (lin1): Linear(in_features=768, out_features=3072, bias=True)\n",
       "            (lin2): Linear(in_features=3072, out_features=768, bias=True)\n",
       "            (activation): GELUActivation()\n",
       "          )\n",
       "          (output_layer_norm): LayerNorm((768,), eps=1e-12, elementwise_affine=True)\n",
       "        )\n",
       "        (4): TransformerBlock(\n",
       "          (attention): MultiHeadSelfAttention(\n",
       "            (dropout): Dropout(p=0.1, inplace=False)\n",
       "            (q_lin): Linear(in_features=768, out_features=768, bias=True)\n",
       "            (k_lin): Linear(in_features=768, out_features=768, bias=True)\n",
       "            (v_lin): Linear(in_features=768, out_features=768, bias=True)\n",
       "            (out_lin): Linear(in_features=768, out_features=768, bias=True)\n",
       "          )\n",
       "          (sa_layer_norm): LayerNorm((768,), eps=1e-12, elementwise_affine=True)\n",
       "          (ffn): FFN(\n",
       "            (dropout): Dropout(p=0.1, inplace=False)\n",
       "            (lin1): Linear(in_features=768, out_features=3072, bias=True)\n",
       "            (lin2): Linear(in_features=3072, out_features=768, bias=True)\n",
       "            (activation): GELUActivation()\n",
       "          )\n",
       "          (output_layer_norm): LayerNorm((768,), eps=1e-12, elementwise_affine=True)\n",
       "        )\n",
       "        (5): TransformerBlock(\n",
       "          (attention): MultiHeadSelfAttention(\n",
       "            (dropout): Dropout(p=0.1, inplace=False)\n",
       "            (q_lin): Linear(in_features=768, out_features=768, bias=True)\n",
       "            (k_lin): Linear(in_features=768, out_features=768, bias=True)\n",
       "            (v_lin): Linear(in_features=768, out_features=768, bias=True)\n",
       "            (out_lin): Linear(in_features=768, out_features=768, bias=True)\n",
       "          )\n",
       "          (sa_layer_norm): LayerNorm((768,), eps=1e-12, elementwise_affine=True)\n",
       "          (ffn): FFN(\n",
       "            (dropout): Dropout(p=0.1, inplace=False)\n",
       "            (lin1): Linear(in_features=768, out_features=3072, bias=True)\n",
       "            (lin2): Linear(in_features=3072, out_features=768, bias=True)\n",
       "            (activation): GELUActivation()\n",
       "          )\n",
       "          (output_layer_norm): LayerNorm((768,), eps=1e-12, elementwise_affine=True)\n",
       "        )\n",
       "      )\n",
       "    )\n",
       "  )\n",
       "  (pre_classifier): Linear(in_features=768, out_features=768, bias=True)\n",
       "  (dropout): Dropout(p=0.3, inplace=False)\n",
       "  (classifier): Linear(in_features=768, out_features=23, bias=True)\n",
       ")"
      ]
     },
     "execution_count": 24,
     "metadata": {},
     "output_type": "execute_result"
    }
   ],
   "source": [
    "model"
   ]
  },
  {
   "cell_type": "code",
   "execution_count": null,
   "metadata": {},
   "outputs": [],
   "source": []
  },
  {
   "cell_type": "code",
   "execution_count": null,
   "metadata": {},
   "outputs": [],
   "source": [
    "# pytorch.MultiClassClassifier"
   ]
  },
  {
   "cell_type": "code",
   "execution_count": null,
   "metadata": {},
   "outputs": [],
   "source": [
    "# model = 'src.model.pytorch.MultiClassClassifier'"
   ]
  },
  {
   "cell_type": "code",
   "execution_count": null,
   "metadata": {},
   "outputs": [],
   "source": [
    "# experiment = 'tonderai-experiment-0001'"
   ]
  },
  {
   "cell_type": "code",
   "execution_count": null,
   "metadata": {},
   "outputs": [],
   "source": [
    "# my = train_val_test.train_val_test(CONFIG, experiment, model)"
   ]
  },
  {
   "cell_type": "markdown",
   "metadata": {},
   "source": [
    "preprocess(CONFIG)"
   ]
  },
  {
   "cell_type": "code",
   "execution_count": null,
   "metadata": {},
   "outputs": [],
   "source": [
    "# type(my)"
   ]
  },
  {
   "cell_type": "code",
   "execution_count": null,
   "metadata": {},
   "outputs": [],
   "source": [
    "# from datasets import load_dataset"
   ]
  },
  {
   "cell_type": "markdown",
   "metadata": {},
   "source": [
    "# from src.processing.target import encode_target"
   ]
  },
  {
   "cell_type": "code",
   "execution_count": null,
   "metadata": {},
   "outputs": [],
   "source": [
    "# my=create_features(CONFIG)"
   ]
  },
  {
   "cell_type": "code",
   "execution_count": null,
   "metadata": {},
   "outputs": [],
   "source": [
    "# [CONFIG[\"model\"][\"feature_combined_col_names\"],CONFIG[\"model\"][\"target_col_name\"]]"
   ]
  },
  {
   "cell_type": "code",
   "execution_count": null,
   "metadata": {},
   "outputs": [],
   "source": [
    "# target_name = CONFIG[\"execution\"][\"target_col_binarizer_name\"]+ CONFIG[\"execution\"][\"pickle_extension\"]\n",
    "# save_dir = Path(\"/\".join([CONFIG[\"execution\"][\"local_execution_path\"], \"binarizer\"]))\n",
    "# column_binarizer = pickle.load(open(save_dir / target_name, 'rb'))"
   ]
  },
  {
   "cell_type": "code",
   "execution_count": null,
   "metadata": {},
   "outputs": [],
   "source": [
    "# column_binarizer.transform([list(my['Category Code'])[0]])"
   ]
  },
  {
   "cell_type": "code",
   "execution_count": null,
   "metadata": {},
   "outputs": [],
   "source": [
    "# column_binarizer.transform(['NaN'])"
   ]
  },
  {
   "cell_type": "code",
   "execution_count": null,
   "metadata": {},
   "outputs": [],
   "source": [
    "# create_binarizer(CONFIG)"
   ]
  },
  {
   "cell_type": "code",
   "execution_count": null,
   "metadata": {},
   "outputs": [],
   "source": [
    "# type(my['Category Code'].notna())"
   ]
  },
  {
   "cell_type": "code",
   "execution_count": null,
   "metadata": {},
   "outputs": [],
   "source": [
    "# encode_target(my['Category Code'])"
   ]
  },
  {
   "cell_type": "code",
   "execution_count": null,
   "metadata": {},
   "outputs": [],
   "source": [
    "# binarize_target(CONFIG)"
   ]
  },
  {
   "cell_type": "code",
   "execution_count": null,
   "metadata": {},
   "outputs": [],
   "source": [
    "# train, validation, test = create_split(CONFIG)"
   ]
  },
  {
   "cell_type": "code",
   "execution_count": null,
   "metadata": {},
   "outputs": [],
   "source": [
    "# train"
   ]
  },
  {
   "cell_type": "code",
   "execution_count": null,
   "metadata": {},
   "outputs": [],
   "source": [
    "# validation"
   ]
  },
  {
   "cell_type": "code",
   "execution_count": null,
   "metadata": {},
   "outputs": [],
   "source": [
    "# test"
   ]
  },
  {
   "cell_type": "code",
   "execution_count": null,
   "metadata": {},
   "outputs": [],
   "source": [
    "# load_dir_features = Path(\"/\".join([CONFIG[\"data_storage\"][\"local_data_path\"], \"processed__features\"]))\n",
    "# features_add_binarized_target =  pd.read_csv(load_dir_features/ (CONFIG[\"data_storage\"][\"features_file_name\"]+ CONFIG[\"data_storage\"][\"target_extension\"]),dtype=str)[CONFIG[\"model\"][\"feature_cols\"]]"
   ]
  },
  {
   "cell_type": "code",
   "execution_count": null,
   "metadata": {},
   "outputs": [],
   "source": [
    "# compile_(CONFIG) # need to fix compile "
   ]
  },
  {
   "cell_type": "code",
   "execution_count": null,
   "metadata": {},
   "outputs": [],
   "source": [
    "# df[CONFIG[\"model\"][\"target_col\"]] = encode_target(df[CONFIG[\"data\"][\"target_col\"]])\n",
    "# logging.info(\"Encoded targets\")"
   ]
  },
  {
   "cell_type": "code",
   "execution_count": null,
   "metadata": {},
   "outputs": [],
   "source": [
    "# Bf[['Category','Product Description','Size']].agg(', '.join, axis=1)"
   ]
  },
  {
   "cell_type": "code",
   "execution_count": null,
   "metadata": {},
   "outputs": [],
   "source": [
    "# labeled_df"
   ]
  },
  {
   "cell_type": "code",
   "execution_count": null,
   "metadata": {},
   "outputs": [],
   "source": [
    "# train_size = 0.70\n",
    "# val_size = 0.15\n",
    "# train, validation_test = train_test_split(labeled_df, train_size = train_size)\n",
    "# validation,test = train_test_split(validation_test, train_size = val_size/(1-train_size))\n",
    "# train.to_csv(save_dir / process_file_name)"
   ]
  },
  {
   "cell_type": "code",
   "execution_count": null,
   "metadata": {},
   "outputs": [],
   "source": [
    "# lb.inverse_transform(Et[1])"
   ]
  },
  {
   "cell_type": "code",
   "execution_count": null,
   "metadata": {},
   "outputs": [],
   "source": [
    "# Et.items"
   ]
  },
  {
   "cell_type": "code",
   "execution_count": null,
   "metadata": {},
   "outputs": [],
   "source": [
    "# Et"
   ]
  },
  {
   "cell_type": "code",
   "execution_count": null,
   "metadata": {},
   "outputs": [],
   "source": [
    "# lb.inverse_transform(Et[1])[0]"
   ]
  },
  {
   "cell_type": "code",
   "execution_count": null,
   "metadata": {},
   "outputs": [],
   "source": [
    "# list({values:Et[values] for values in range(len(Et))}.values())"
   ]
  },
  {
   "cell_type": "code",
   "execution_count": null,
   "metadata": {},
   "outputs": [],
   "source": [
    "# list(Et)[1]"
   ]
  },
  {
   "cell_type": "code",
   "execution_count": null,
   "metadata": {},
   "outputs": [],
   "source": [
    "# {i : lb.inverse_transform(values)[0] for i, values in Et.items()}"
   ]
  },
  {
   "cell_type": "code",
   "execution_count": null,
   "metadata": {},
   "outputs": [],
   "source": [
    "# list({i : lb.inverse_transform(values)[0] for i, values in Et.items()}.values())[1]"
   ]
  },
  {
   "cell_type": "code",
   "execution_count": null,
   "metadata": {},
   "outputs": [],
   "source": [
    "# {list({values:Et[values] for values in range(len(Et))}.values()):list({i : lb.inverse_transform(values)[0] for i, values in Et.items()}.values())}"
   ]
  },
  {
   "cell_type": "code",
   "execution_count": null,
   "metadata": {},
   "outputs": [],
   "source": [
    "# {values:values for  values in Et.values()}"
   ]
  },
  {
   "cell_type": "code",
   "execution_count": null,
   "metadata": {},
   "outputs": [],
   "source": [
    "# {i : lb.inverse_transform(values) for i, values in Et.items()}"
   ]
  },
  {
   "cell_type": "code",
   "execution_count": null,
   "metadata": {},
   "outputs": [],
   "source": [
    "# for x in Et.items():\n",
    "#   values = lb.inverse_transform(x[1])"
   ]
  },
  {
   "cell_type": "code",
   "execution_count": null,
   "metadata": {},
   "outputs": [],
   "source": [
    "# K"
   ]
  },
  {
   "cell_type": "code",
   "execution_count": null,
   "metadata": {},
   "outputs": [],
   "source": [
    "# Et[1]"
   ]
  },
  {
   "cell_type": "code",
   "execution_count": null,
   "metadata": {},
   "outputs": [],
   "source": [
    "# lb.inverse_transform(Et[1])"
   ]
  },
  {
   "cell_type": "code",
   "execution_count": null,
   "metadata": {},
   "outputs": [],
   "source": [
    "# DF =  {values : values for values in Et.values}\n",
    "# DF"
   ]
  }
 ],
 "metadata": {
  "kernelspec": {
   "display_name": "Python 3.9.6 ('env_pythorch': venv)",
   "language": "python",
   "name": "python3"
  },
  "language_info": {
   "codemirror_mode": {
    "name": "ipython",
    "version": 3
   },
   "file_extension": ".py",
   "mimetype": "text/x-python",
   "name": "python",
   "nbconvert_exporter": "python",
   "pygments_lexer": "ipython3",
   "version": "3.9.6"
  },
  "orig_nbformat": 4,
  "vscode": {
   "interpreter": {
    "hash": "0dc96f63c377cd8c3e704f4dc909ebc34ed15c64650e11455ef70b6df00bbfd3"
   }
  }
 },
 "nbformat": 4,
 "nbformat_minor": 2
}
