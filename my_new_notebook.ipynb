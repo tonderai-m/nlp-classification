{
 "cells": [
  {
   "cell_type": "code",
   "execution_count": 13,
   "metadata": {},
   "outputs": [],
   "source": [
    "import torch\n",
    "from torch.nn import functional as F\n",
    "from torch.optim import Adam\n",
    "from torch.optim.lr_scheduler import OneCycleLR  #\n",
    "# from torch.utils.data import TensorDataset, \\\n",
    "#     DataLoader  # Own stuff set of data quality checks, tensor shapes might be different dataloader loads the tensor,\n",
    "import pytorch_lightning as pl  #\n",
    "from pytorch_lightning.callbacks.early_stopping import \\\n",
    "    EarlyStopping  # early stop when you reach optimum loss, 3 times in a row gradient descent\n",
    "from pytorch_lightning.callbacks import LearningRateMonitor  # delta (loss / accuracy)\n",
    "from pytorch_lightning.loggers import MLFlowLogger  # Model tracking\n",
    "import torch\n",
    "import torch.nn as nn\n",
    "from transformers import DistilBertModel\n",
    "from data_preprocessing import injestDataset, downSample\n",
    "from data_cleaning import feature_cleaner, cleaningPreprocess\n",
    "from torch.utils.data import Dataset, DataLoader\n",
    "\n",
    "from sklearn.preprocessing import OneHotEncoder\n",
    "from sklearn.compose import ColumnTransformer\n",
    "\n",
    "from torch.utils.data import Dataset, DataLoader\n",
    "from sklearn.model_selection import train_test_split\n",
    "from sklearn.preprocessing import OneHotEncoder, LabelEncoder, MultiLabelBinarizer, LabelBinarizer\n",
    "from sklearn.compose import ColumnTransformer\n",
    "\n",
    "import torchmetrics\n",
    "import pytorch_lightning as pl\n",
    "from transformers import BertTokenizer\n",
    "# from transformers import DistilBertModel"
   ]
  },
  {
   "cell_type": "code",
   "execution_count": 14,
   "metadata": {},
   "outputs": [],
   "source": [
    "torch.set_default_dtype(torch.float32)"
   ]
  },
  {
   "cell_type": "code",
   "execution_count": 15,
   "metadata": {},
   "outputs": [],
   "source": [
    "data = injestDataset()"
   ]
  },
  {
   "cell_type": "code",
   "execution_count": 16,
   "metadata": {},
   "outputs": [],
   "source": [
    "df = downSample(data,\"Recommended IND\",1000)"
   ]
  },
  {
   "cell_type": "code",
   "execution_count": 17,
   "metadata": {},
   "outputs": [
    {
     "data": {
      "text/plain": [
       "trueIndex           int64\n",
       "Review Text        object\n",
       "Rating              int64\n",
       "Recommended IND     int64\n",
       "dtype: object"
      ]
     },
     "execution_count": 17,
     "metadata": {},
     "output_type": "execute_result"
    }
   ],
   "source": [
    "df.dtypes"
   ]
  },
  {
   "cell_type": "code",
   "execution_count": 18,
   "metadata": {},
   "outputs": [],
   "source": [
    "df = cleaningPreprocess(df, \"Review Text\")"
   ]
  },
  {
   "cell_type": "code",
   "execution_count": 19,
   "metadata": {},
   "outputs": [],
   "source": [
    "df = df.rename(columns={\"Recommended IND\": \"targetOne\", \"Review Text\": \"feature\", \"Rating\": \"targetTwo\"})"
   ]
  },
  {
   "cell_type": "code",
   "execution_count": 20,
   "metadata": {},
   "outputs": [
    {
     "data": {
      "text/html": [
       "<div>\n",
       "<style scoped>\n",
       "    .dataframe tbody tr th:only-of-type {\n",
       "        vertical-align: middle;\n",
       "    }\n",
       "\n",
       "    .dataframe tbody tr th {\n",
       "        vertical-align: top;\n",
       "    }\n",
       "\n",
       "    .dataframe thead th {\n",
       "        text-align: right;\n",
       "    }\n",
       "</style>\n",
       "<table border=\"1\" class=\"dataframe\">\n",
       "  <thead>\n",
       "    <tr style=\"text-align: right;\">\n",
       "      <th></th>\n",
       "      <th>trueIndex</th>\n",
       "      <th>feature</th>\n",
       "      <th>targetTwo</th>\n",
       "      <th>targetOne</th>\n",
       "    </tr>\n",
       "  </thead>\n",
       "  <tbody>\n",
       "    <tr>\n",
       "      <th>0</th>\n",
       "      <td>12849</td>\n",
       "      <td>ive looking sometime springsummer jacket wear ...</td>\n",
       "      <td>5</td>\n",
       "      <td>1</td>\n",
       "    </tr>\n",
       "    <tr>\n",
       "      <th>1</th>\n",
       "      <td>4578</td>\n",
       "      <td>great spring time dress looks good thin top ca...</td>\n",
       "      <td>5</td>\n",
       "      <td>1</td>\n",
       "    </tr>\n",
       "    <tr>\n",
       "      <th>2</th>\n",
       "      <td>6169</td>\n",
       "      <td>material shirt soft appealing great fall side ...</td>\n",
       "      <td>4</td>\n",
       "      <td>1</td>\n",
       "    </tr>\n",
       "    <tr>\n",
       "      <th>3</th>\n",
       "      <td>2942</td>\n",
       "      <td>dress light twirly fabric airy pretty sadly fi...</td>\n",
       "      <td>4</td>\n",
       "      <td>1</td>\n",
       "    </tr>\n",
       "    <tr>\n",
       "      <th>4</th>\n",
       "      <td>2769</td>\n",
       "      <td>bought shirt 16 year old daughter looked adora...</td>\n",
       "      <td>4</td>\n",
       "      <td>1</td>\n",
       "    </tr>\n",
       "    <tr>\n",
       "      <th>...</th>\n",
       "      <td>...</td>\n",
       "      <td>...</td>\n",
       "      <td>...</td>\n",
       "      <td>...</td>\n",
       "    </tr>\n",
       "    <tr>\n",
       "      <th>995</th>\n",
       "      <td>12936</td>\n",
       "      <td>beautiful dress however looked awful ordered m...</td>\n",
       "      <td>1</td>\n",
       "      <td>0</td>\n",
       "    </tr>\n",
       "    <tr>\n",
       "      <th>996</th>\n",
       "      <td>258</td>\n",
       "      <td>fits well shoulders arms zero waist looks like...</td>\n",
       "      <td>3</td>\n",
       "      <td>0</td>\n",
       "    </tr>\n",
       "    <tr>\n",
       "      <th>997</th>\n",
       "      <td>19148</td>\n",
       "      <td>love maeve dresses several issues one taste 1 ...</td>\n",
       "      <td>3</td>\n",
       "      <td>0</td>\n",
       "    </tr>\n",
       "    <tr>\n",
       "      <th>998</th>\n",
       "      <td>20477</td>\n",
       "      <td>okay top redeeming qualities promise gave 3 st...</td>\n",
       "      <td>3</td>\n",
       "      <td>0</td>\n",
       "    </tr>\n",
       "    <tr>\n",
       "      <th>999</th>\n",
       "      <td>1061</td>\n",
       "      <td>wanted love sweater beautiful colors cute grap...</td>\n",
       "      <td>2</td>\n",
       "      <td>0</td>\n",
       "    </tr>\n",
       "  </tbody>\n",
       "</table>\n",
       "<p>1000 rows × 4 columns</p>\n",
       "</div>"
      ],
      "text/plain": [
       "     trueIndex                                            feature  targetTwo  \\\n",
       "0        12849  ive looking sometime springsummer jacket wear ...          5   \n",
       "1         4578  great spring time dress looks good thin top ca...          5   \n",
       "2         6169  material shirt soft appealing great fall side ...          4   \n",
       "3         2942  dress light twirly fabric airy pretty sadly fi...          4   \n",
       "4         2769  bought shirt 16 year old daughter looked adora...          4   \n",
       "..         ...                                                ...        ...   \n",
       "995      12936  beautiful dress however looked awful ordered m...          1   \n",
       "996        258  fits well shoulders arms zero waist looks like...          3   \n",
       "997      19148  love maeve dresses several issues one taste 1 ...          3   \n",
       "998      20477  okay top redeeming qualities promise gave 3 st...          3   \n",
       "999       1061  wanted love sweater beautiful colors cute grap...          2   \n",
       "\n",
       "     targetOne  \n",
       "0            1  \n",
       "1            1  \n",
       "2            1  \n",
       "3            1  \n",
       "4            1  \n",
       "..         ...  \n",
       "995          0  \n",
       "996          0  \n",
       "997          0  \n",
       "998          0  \n",
       "999          0  \n",
       "\n",
       "[1000 rows x 4 columns]"
      ]
     },
     "execution_count": 20,
     "metadata": {},
     "output_type": "execute_result"
    }
   ],
   "source": [
    "df"
   ]
  },
  {
   "cell_type": "code",
   "execution_count": 21,
   "metadata": {},
   "outputs": [
    {
     "data": {
      "text/html": [
       "<div>\n",
       "<style scoped>\n",
       "    .dataframe tbody tr th:only-of-type {\n",
       "        vertical-align: middle;\n",
       "    }\n",
       "\n",
       "    .dataframe tbody tr th {\n",
       "        vertical-align: top;\n",
       "    }\n",
       "\n",
       "    .dataframe thead th {\n",
       "        text-align: right;\n",
       "    }\n",
       "</style>\n",
       "<table border=\"1\" class=\"dataframe\">\n",
       "  <thead>\n",
       "    <tr style=\"text-align: right;\">\n",
       "      <th></th>\n",
       "      <th>trueIndex</th>\n",
       "      <th>feature</th>\n",
       "      <th>targetTwo</th>\n",
       "      <th>targetOne</th>\n",
       "    </tr>\n",
       "  </thead>\n",
       "  <tbody>\n",
       "    <tr>\n",
       "      <th>0</th>\n",
       "      <td>12849</td>\n",
       "      <td>ive looking sometime springsummer jacket wear ...</td>\n",
       "      <td>5</td>\n",
       "      <td>1</td>\n",
       "    </tr>\n",
       "    <tr>\n",
       "      <th>1</th>\n",
       "      <td>4578</td>\n",
       "      <td>great spring time dress looks good thin top ca...</td>\n",
       "      <td>5</td>\n",
       "      <td>1</td>\n",
       "    </tr>\n",
       "    <tr>\n",
       "      <th>2</th>\n",
       "      <td>6169</td>\n",
       "      <td>material shirt soft appealing great fall side ...</td>\n",
       "      <td>4</td>\n",
       "      <td>1</td>\n",
       "    </tr>\n",
       "    <tr>\n",
       "      <th>3</th>\n",
       "      <td>2942</td>\n",
       "      <td>dress light twirly fabric airy pretty sadly fi...</td>\n",
       "      <td>4</td>\n",
       "      <td>1</td>\n",
       "    </tr>\n",
       "    <tr>\n",
       "      <th>4</th>\n",
       "      <td>2769</td>\n",
       "      <td>bought shirt 16 year old daughter looked adora...</td>\n",
       "      <td>4</td>\n",
       "      <td>1</td>\n",
       "    </tr>\n",
       "    <tr>\n",
       "      <th>...</th>\n",
       "      <td>...</td>\n",
       "      <td>...</td>\n",
       "      <td>...</td>\n",
       "      <td>...</td>\n",
       "    </tr>\n",
       "    <tr>\n",
       "      <th>995</th>\n",
       "      <td>12936</td>\n",
       "      <td>beautiful dress however looked awful ordered m...</td>\n",
       "      <td>1</td>\n",
       "      <td>0</td>\n",
       "    </tr>\n",
       "    <tr>\n",
       "      <th>996</th>\n",
       "      <td>258</td>\n",
       "      <td>fits well shoulders arms zero waist looks like...</td>\n",
       "      <td>3</td>\n",
       "      <td>0</td>\n",
       "    </tr>\n",
       "    <tr>\n",
       "      <th>997</th>\n",
       "      <td>19148</td>\n",
       "      <td>love maeve dresses several issues one taste 1 ...</td>\n",
       "      <td>3</td>\n",
       "      <td>0</td>\n",
       "    </tr>\n",
       "    <tr>\n",
       "      <th>998</th>\n",
       "      <td>20477</td>\n",
       "      <td>okay top redeeming qualities promise gave 3 st...</td>\n",
       "      <td>3</td>\n",
       "      <td>0</td>\n",
       "    </tr>\n",
       "    <tr>\n",
       "      <th>999</th>\n",
       "      <td>1061</td>\n",
       "      <td>wanted love sweater beautiful colors cute grap...</td>\n",
       "      <td>2</td>\n",
       "      <td>0</td>\n",
       "    </tr>\n",
       "  </tbody>\n",
       "</table>\n",
       "<p>1000 rows × 4 columns</p>\n",
       "</div>"
      ],
      "text/plain": [
       "     trueIndex                                            feature  targetTwo  \\\n",
       "0        12849  ive looking sometime springsummer jacket wear ...          5   \n",
       "1         4578  great spring time dress looks good thin top ca...          5   \n",
       "2         6169  material shirt soft appealing great fall side ...          4   \n",
       "3         2942  dress light twirly fabric airy pretty sadly fi...          4   \n",
       "4         2769  bought shirt 16 year old daughter looked adora...          4   \n",
       "..         ...                                                ...        ...   \n",
       "995      12936  beautiful dress however looked awful ordered m...          1   \n",
       "996        258  fits well shoulders arms zero waist looks like...          3   \n",
       "997      19148  love maeve dresses several issues one taste 1 ...          3   \n",
       "998      20477  okay top redeeming qualities promise gave 3 st...          3   \n",
       "999       1061  wanted love sweater beautiful colors cute grap...          2   \n",
       "\n",
       "     targetOne  \n",
       "0            1  \n",
       "1            1  \n",
       "2            1  \n",
       "3            1  \n",
       "4            1  \n",
       "..         ...  \n",
       "995          0  \n",
       "996          0  \n",
       "997          0  \n",
       "998          0  \n",
       "999          0  \n",
       "\n",
       "[1000 rows x 4 columns]"
      ]
     },
     "execution_count": 21,
     "metadata": {},
     "output_type": "execute_result"
    }
   ],
   "source": [
    "df"
   ]
  },
  {
   "cell_type": "code",
   "execution_count": 22,
   "metadata": {},
   "outputs": [],
   "source": [
    "# Here is your dataset\n",
    "class MyDataset(Dataset):\n",
    "    def __init__(self, df,transform=None):\n",
    "        self.input_data = df\n",
    "        # self.max_length = 30\n",
    "        self.tokenizer = BertTokenizer.from_pretrained('bert-base-uncased')\n",
    "        self.tokenize_dataframe()\n",
    "        self.train_val_test_idx()\n",
    "        self.split_columns()\n",
    "        self.targertOne_labelEncoder()\n",
    "        self.targertTwo_labelEncoder()\n",
    "\n",
    "    def tokenize_dataframe(self):\n",
    "        tokenized_texts = []\n",
    "        input_ids = []\n",
    "        attention_masks = []\n",
    "\n",
    "        for text in self.input_data['feature']:\n",
    "            encoded_inputs = self.tokenizer(\n",
    "                text,\n",
    "                add_special_tokens=True,\n",
    "                # max_length=self.max_length,\n",
    "                padding='max_length',\n",
    "                truncation=True,\n",
    "                return_tensors='pt'\n",
    "            )\n",
    "            tokenized_texts.append(encoded_inputs)\n",
    "            input_ids.append(encoded_inputs['input_ids'])\n",
    "            attention_masks.append(encoded_inputs['attention_mask'])\n",
    "        \n",
    "        self.input_data['tokenizedFeature'] = tokenized_texts\n",
    "        self.input_data['input_ids'] = input_ids\n",
    "        self.input_data['attention_mask'] = attention_masks\n",
    "\n",
    "\n",
    "    def split_columns(self):\n",
    "        self.features = self.input_data[\"feature\"]\n",
    "        self.targetOne = self.input_data[\"targetOne\"]\n",
    "        self.targetTwo = self.input_data[\"targetTwo\"]\n",
    "\n",
    "            \n",
    "    def train_val_test_idx(self):\n",
    "        idx = list(range(len(self.input_data)))\n",
    "        train_idx, val_test_idx = train_test_split(\n",
    "                                idx,\n",
    "                                train_size=0.8,\n",
    "                                stratify=self.input_data[\"targetOne\"],\n",
    "                                random_state=500)\n",
    "                                \n",
    "        test_idx,  val_idx, = train_test_split(\n",
    "                                val_test_idx,\n",
    "                                train_size=0.5,\n",
    "                                random_state=500)\n",
    "\n",
    "        self.train_idx = train_idx \n",
    "        self.test_idx = test_idx\n",
    "        self.val_idx = val_idx,\n",
    "    \n",
    "    def targertOne_labelEncoder(self):\n",
    "        self.targetOne_label_binarizer = MultiLabelBinarizer()\n",
    "        self.input_data_2 =  self.targetOne_label_binarizer.fit_transform(self.input_data[\"targetOne\"].astype(\"str\"))\n",
    "\n",
    "    def targertTwo_labelEncoder(self):\n",
    "        self.targetTwo_label_binarizer = MultiLabelBinarizer()\n",
    "        self.input_data_3 =  self.targetTwo_label_binarizer.fit_transform(self.input_data[\"targetTwo\"].astype(\"str\"))\n",
    "\n",
    "    # class to_tensor:\n",
    "    def conver_to_tensor(self):\n",
    "        \n",
    "        return torch.tensor(features,dtype=torch.float32,device='mps:0'), torch.tensor(targets ,dtype=torch.int32,  device='mps:0')\n",
    "\n",
    "        \n",
    "    def __len__(self):\n",
    "        return len(self.input_data)\n",
    "    \n",
    "    def __getitem__(self, index):\n",
    "        sample = self.input_data.iloc[index]\n",
    "        return sample\n"
   ]
  },
  {
   "cell_type": "code",
   "execution_count": 23,
   "metadata": {},
   "outputs": [],
   "source": [
    "dataset = MyDataset(df)"
   ]
  },
  {
   "cell_type": "code",
   "execution_count": 126,
   "metadata": {},
   "outputs": [],
   "source": [
    "import pandas as pd\n",
    "import numpy as np\n",
    "\n",
    "# Sample 2D array\n",
    "two_dimensional_array = np.array([\n",
    "    [1, 2, 3],\n",
    "    [4, 5, 6],\n",
    "    [7, 8, 9]\n",
    "])\n",
    "\n",
    "# x = torch.tensor(two_dimensional_array)\n",
    "# Transpose the 2D array\n",
    "first_elements = [subarray for subarray in np.split(two_dimensional_array,len(two_dimensional_array))]\n",
    "\n",
    "df = pd.DataFrame({'Single_Column': first_elements})\n",
    "df\n",
    "df[\"neww\"] = first_elements\n",
    "# df[\"neww_s\"] = list(x)\n"
   ]
  },
  {
   "cell_type": "code",
   "execution_count": 130,
   "metadata": {},
   "outputs": [
    {
     "data": {
      "text/plain": [
       "tensor([[[1, 2, 3]],\n",
       "\n",
       "        [[4, 5, 6]],\n",
       "\n",
       "        [[7, 8, 9]]])"
      ]
     },
     "execution_count": 130,
     "metadata": {},
     "output_type": "execute_result"
    }
   ],
   "source": [
    "torch.tensor(df['neww'])"
   ]
  },
  {
   "cell_type": "code",
   "execution_count": 125,
   "metadata": {},
   "outputs": [
    {
     "data": {
      "text/plain": [
       "3"
      ]
     },
     "execution_count": 125,
     "metadata": {},
     "output_type": "execute_result"
    }
   ],
   "source": [
    "len(two_dimensional_array)"
   ]
  },
  {
   "cell_type": "code",
   "execution_count": 124,
   "metadata": {},
   "outputs": [
    {
     "data": {
      "text/plain": [
       "[array([[1, 2, 3]]), array([[4, 5, 6]]), array([[7, 8, 9]])]"
      ]
     },
     "execution_count": 124,
     "metadata": {},
     "output_type": "execute_result"
    }
   ],
   "source": []
  },
  {
   "cell_type": "code",
   "execution_count": 106,
   "metadata": {},
   "outputs": [
    {
     "data": {
      "text/plain": [
       "tensor([[4, 5, 6]])"
      ]
     },
     "execution_count": 106,
     "metadata": {},
     "output_type": "execute_result"
    }
   ],
   "source": [
    "list(x)[1]"
   ]
  },
  {
   "cell_type": "code",
   "execution_count": 119,
   "metadata": {},
   "outputs": [
    {
     "data": {
      "text/plain": [
       "torch.Tensor"
      ]
     },
     "execution_count": 119,
     "metadata": {},
     "output_type": "execute_result"
    }
   ],
   "source": [
    "type(x)"
   ]
  },
  {
   "cell_type": "code",
   "execution_count": 109,
   "metadata": {},
   "outputs": [
    {
     "data": {
      "text/html": [
       "<div>\n",
       "<style scoped>\n",
       "    .dataframe tbody tr th:only-of-type {\n",
       "        vertical-align: middle;\n",
       "    }\n",
       "\n",
       "    .dataframe tbody tr th {\n",
       "        vertical-align: top;\n",
       "    }\n",
       "\n",
       "    .dataframe thead th {\n",
       "        text-align: right;\n",
       "    }\n",
       "</style>\n",
       "<table border=\"1\" class=\"dataframe\">\n",
       "  <thead>\n",
       "    <tr style=\"text-align: right;\">\n",
       "      <th></th>\n",
       "      <th>Single_Column</th>\n",
       "      <th>neww</th>\n",
       "      <th>neww_s</th>\n",
       "    </tr>\n",
       "  </thead>\n",
       "  <tbody>\n",
       "    <tr>\n",
       "      <th>0</th>\n",
       "      <td>[[tensor(1), tensor(2), tensor(3)]]</td>\n",
       "      <td>[[tensor(1), tensor(2), tensor(3)]]</td>\n",
       "      <td>[[tensor(1), tensor(2), tensor(3)]]</td>\n",
       "    </tr>\n",
       "    <tr>\n",
       "      <th>1</th>\n",
       "      <td>[[tensor(4), tensor(5), tensor(6)]]</td>\n",
       "      <td>[[tensor(4), tensor(5), tensor(6)]]</td>\n",
       "      <td>[[tensor(4), tensor(5), tensor(6)]]</td>\n",
       "    </tr>\n",
       "    <tr>\n",
       "      <th>2</th>\n",
       "      <td>[[tensor(7), tensor(8), tensor(9)]]</td>\n",
       "      <td>[[tensor(7), tensor(8), tensor(9)]]</td>\n",
       "      <td>[[tensor(7), tensor(8), tensor(9)]]</td>\n",
       "    </tr>\n",
       "  </tbody>\n",
       "</table>\n",
       "</div>"
      ],
      "text/plain": [
       "                         Single_Column                                 neww  \\\n",
       "0  [[tensor(1), tensor(2), tensor(3)]]  [[tensor(1), tensor(2), tensor(3)]]   \n",
       "1  [[tensor(4), tensor(5), tensor(6)]]  [[tensor(4), tensor(5), tensor(6)]]   \n",
       "2  [[tensor(7), tensor(8), tensor(9)]]  [[tensor(7), tensor(8), tensor(9)]]   \n",
       "\n",
       "                                neww_s  \n",
       "0  [[tensor(1), tensor(2), tensor(3)]]  \n",
       "1  [[tensor(4), tensor(5), tensor(6)]]  \n",
       "2  [[tensor(7), tensor(8), tensor(9)]]  "
      ]
     },
     "execution_count": 109,
     "metadata": {},
     "output_type": "execute_result"
    }
   ],
   "source": [
    "df"
   ]
  },
  {
   "cell_type": "code",
   "execution_count": null,
   "metadata": {},
   "outputs": [],
   "source": []
  },
  {
   "cell_type": "code",
   "execution_count": 66,
   "metadata": {},
   "outputs": [
    {
     "data": {
      "text/html": [
       "<div>\n",
       "<style scoped>\n",
       "    .dataframe tbody tr th:only-of-type {\n",
       "        vertical-align: middle;\n",
       "    }\n",
       "\n",
       "    .dataframe tbody tr th {\n",
       "        vertical-align: top;\n",
       "    }\n",
       "\n",
       "    .dataframe thead th {\n",
       "        text-align: right;\n",
       "    }\n",
       "</style>\n",
       "<table border=\"1\" class=\"dataframe\">\n",
       "  <thead>\n",
       "    <tr style=\"text-align: right;\">\n",
       "      <th></th>\n",
       "      <th>Single_Column</th>\n",
       "    </tr>\n",
       "  </thead>\n",
       "  <tbody>\n",
       "    <tr>\n",
       "      <th>1</th>\n",
       "      <td>[tensor(4), tensor(5), tensor(6)]</td>\n",
       "    </tr>\n",
       "  </tbody>\n",
       "</table>\n",
       "</div>"
      ],
      "text/plain": [
       "                       Single_Column\n",
       "1  [tensor(4), tensor(5), tensor(6)]"
      ]
     },
     "execution_count": 66,
     "metadata": {},
     "output_type": "execute_result"
    }
   ],
   "source": [
    "df.iloc[[1]]"
   ]
  },
  {
   "cell_type": "code",
   "execution_count": 62,
   "metadata": {},
   "outputs": [],
   "source": [
    "two_dimensional_array = [\n",
    "    [1, 2, 3],\n",
    "    [4, 5, 6],\n",
    "    [7, 8, 9]\n",
    "]"
   ]
  },
  {
   "cell_type": "code",
   "execution_count": 65,
   "metadata": {},
   "outputs": [
    {
     "data": {
      "text/plain": [
       "[4, 5, 6]"
      ]
     },
     "execution_count": 65,
     "metadata": {},
     "output_type": "execute_result"
    }
   ],
   "source": [
    "two_dimensional_array[1]"
   ]
  },
  {
   "cell_type": "code",
   "execution_count": 71,
   "metadata": {},
   "outputs": [
    {
     "ename": "AttributeError",
     "evalue": "'numpy.ndarray' object has no attribute 'items'",
     "output_type": "error",
     "traceback": [
      "\u001b[0;31m---------------------------------------------------------------------------\u001b[0m",
      "\u001b[0;31mAttributeError\u001b[0m                            Traceback (most recent call last)",
      "Cell \u001b[0;32mIn[71], line 1\u001b[0m\n\u001b[0;32m----> 1\u001b[0m two_dimensional_array\u001b[39m.\u001b[39;49mitems\n",
      "\u001b[0;31mAttributeError\u001b[0m: 'numpy.ndarray' object has no attribute 'items'"
     ]
    }
   ],
   "source": [
    "two_dimensional_array."
   ]
  },
  {
   "cell_type": "code",
   "execution_count": 81,
   "metadata": {},
   "outputs": [
    {
     "name": "stdout",
     "output_type": "stream",
     "text": [
      "  Single_Column\n",
      "0     [1, 2, 3]\n",
      "1     [4, 5, 6]\n",
      "2     [7, 8, 9]\n"
     ]
    }
   ],
   "source": [
    "import pandas as pd\n",
    "import numpy as np\n",
    "import torch\n",
    "\n",
    "# Sample 2D array\n",
    "two_dimensional_array = np.array([\n",
    "    [1, 2, 3],\n",
    "    [4, 5, 6],\n",
    "    [7, 8, 9]\n",
    "])\n",
    "\n",
    "# Convert the 2D array to a list of PyTorch tensors\n",
    "tensors_list = [subarray for subarray in two_dimensional_array]\n",
    "\n",
    "# Convert the list of PyTorch tensors to a list of NumPy arrays\n",
    "# numpy_arrays_list = [tensor.numpy() for tensor in tensors_list]\n",
    "\n",
    "# Create a DataFrame with a single column containing NumPy arrays\n",
    "df = pd.DataFrame({'Single_Column': tensors_list})\n",
    "\n",
    "print(df)\n"
   ]
  },
  {
   "cell_type": "code",
   "execution_count": 79,
   "metadata": {},
   "outputs": [
    {
     "data": {
      "text/plain": [
       "Single_Column    [tensor(4), tensor(5), tensor(6)]\n",
       "Name: 1, dtype: object"
      ]
     },
     "execution_count": 79,
     "metadata": {},
     "output_type": "execute_result"
    }
   ],
   "source": [
    "df.iloc[1]"
   ]
  },
  {
   "cell_type": "code",
   "execution_count": 64,
   "metadata": {},
   "outputs": [
    {
     "data": {
      "text/plain": [
       "tensor([4, 5, 6])"
      ]
     },
     "execution_count": 64,
     "metadata": {},
     "output_type": "execute_result"
    }
   ],
   "source": [
    "torch.tensor(two_dimensional_array)[1]"
   ]
  },
  {
   "cell_type": "code",
   "execution_count": 50,
   "metadata": {},
   "outputs": [
    {
     "data": {
      "text/html": [
       "<div>\n",
       "<style scoped>\n",
       "    .dataframe tbody tr th:only-of-type {\n",
       "        vertical-align: middle;\n",
       "    }\n",
       "\n",
       "    .dataframe tbody tr th {\n",
       "        vertical-align: top;\n",
       "    }\n",
       "\n",
       "    .dataframe thead th {\n",
       "        text-align: right;\n",
       "    }\n",
       "</style>\n",
       "<table border=\"1\" class=\"dataframe\">\n",
       "  <thead>\n",
       "    <tr style=\"text-align: right;\">\n",
       "      <th></th>\n",
       "      <th>Single_Column</th>\n",
       "    </tr>\n",
       "  </thead>\n",
       "  <tbody>\n",
       "    <tr>\n",
       "      <th>0</th>\n",
       "      <td>1</td>\n",
       "    </tr>\n",
       "    <tr>\n",
       "      <th>1</th>\n",
       "      <td>2</td>\n",
       "    </tr>\n",
       "    <tr>\n",
       "      <th>2</th>\n",
       "      <td>3</td>\n",
       "    </tr>\n",
       "    <tr>\n",
       "      <th>3</th>\n",
       "      <td>4</td>\n",
       "    </tr>\n",
       "    <tr>\n",
       "      <th>4</th>\n",
       "      <td>5</td>\n",
       "    </tr>\n",
       "    <tr>\n",
       "      <th>5</th>\n",
       "      <td>6</td>\n",
       "    </tr>\n",
       "    <tr>\n",
       "      <th>6</th>\n",
       "      <td>7</td>\n",
       "    </tr>\n",
       "    <tr>\n",
       "      <th>7</th>\n",
       "      <td>8</td>\n",
       "    </tr>\n",
       "    <tr>\n",
       "      <th>8</th>\n",
       "      <td>9</td>\n",
       "    </tr>\n",
       "  </tbody>\n",
       "</table>\n",
       "</div>"
      ],
      "text/plain": [
       "   Single_Column\n",
       "0              1\n",
       "1              2\n",
       "2              3\n",
       "3              4\n",
       "4              5\n",
       "5              6\n",
       "6              7\n",
       "7              8\n",
       "8              9"
      ]
     },
     "execution_count": 50,
     "metadata": {},
     "output_type": "execute_result"
    }
   ],
   "source": [
    "df"
   ]
  },
  {
   "cell_type": "code",
   "execution_count": 46,
   "metadata": {},
   "outputs": [
    {
     "data": {
      "text/html": [
       "<div>\n",
       "<style scoped>\n",
       "    .dataframe tbody tr th:only-of-type {\n",
       "        vertical-align: middle;\n",
       "    }\n",
       "\n",
       "    .dataframe tbody tr th {\n",
       "        vertical-align: top;\n",
       "    }\n",
       "\n",
       "    .dataframe thead th {\n",
       "        text-align: right;\n",
       "    }\n",
       "</style>\n",
       "<table border=\"1\" class=\"dataframe\">\n",
       "  <thead>\n",
       "    <tr style=\"text-align: right;\">\n",
       "      <th></th>\n",
       "      <th>0</th>\n",
       "      <th>1</th>\n",
       "      <th>2</th>\n",
       "    </tr>\n",
       "  </thead>\n",
       "  <tbody>\n",
       "    <tr>\n",
       "      <th>0</th>\n",
       "      <td>1</td>\n",
       "      <td>2</td>\n",
       "      <td>3</td>\n",
       "    </tr>\n",
       "    <tr>\n",
       "      <th>1</th>\n",
       "      <td>4</td>\n",
       "      <td>5</td>\n",
       "      <td>6</td>\n",
       "    </tr>\n",
       "    <tr>\n",
       "      <th>2</th>\n",
       "      <td>7</td>\n",
       "      <td>8</td>\n",
       "      <td>9</td>\n",
       "    </tr>\n",
       "  </tbody>\n",
       "</table>\n",
       "</div>"
      ],
      "text/plain": [
       "   0  1  2\n",
       "0  1  2  3\n",
       "1  4  5  6\n",
       "2  7  8  9"
      ]
     },
     "execution_count": 46,
     "metadata": {},
     "output_type": "execute_result"
    }
   ],
   "source": [
    "df "
   ]
  },
  {
   "cell_type": "code",
   "execution_count": 38,
   "metadata": {},
   "outputs": [
    {
     "data": {
      "text/html": [
       "<div>\n",
       "<style scoped>\n",
       "    .dataframe tbody tr th:only-of-type {\n",
       "        vertical-align: middle;\n",
       "    }\n",
       "\n",
       "    .dataframe tbody tr th {\n",
       "        vertical-align: top;\n",
       "    }\n",
       "\n",
       "    .dataframe thead th {\n",
       "        text-align: right;\n",
       "    }\n",
       "</style>\n",
       "<table border=\"1\" class=\"dataframe\">\n",
       "  <thead>\n",
       "    <tr style=\"text-align: right;\">\n",
       "      <th></th>\n",
       "      <th>0</th>\n",
       "      <th>1</th>\n",
       "    </tr>\n",
       "  </thead>\n",
       "  <tbody>\n",
       "    <tr>\n",
       "      <th>0</th>\n",
       "      <td>0</td>\n",
       "      <td>1</td>\n",
       "    </tr>\n",
       "    <tr>\n",
       "      <th>1</th>\n",
       "      <td>0</td>\n",
       "      <td>1</td>\n",
       "    </tr>\n",
       "    <tr>\n",
       "      <th>2</th>\n",
       "      <td>0</td>\n",
       "      <td>1</td>\n",
       "    </tr>\n",
       "    <tr>\n",
       "      <th>3</th>\n",
       "      <td>0</td>\n",
       "      <td>1</td>\n",
       "    </tr>\n",
       "    <tr>\n",
       "      <th>4</th>\n",
       "      <td>0</td>\n",
       "      <td>1</td>\n",
       "    </tr>\n",
       "    <tr>\n",
       "      <th>...</th>\n",
       "      <td>...</td>\n",
       "      <td>...</td>\n",
       "    </tr>\n",
       "    <tr>\n",
       "      <th>995</th>\n",
       "      <td>1</td>\n",
       "      <td>0</td>\n",
       "    </tr>\n",
       "    <tr>\n",
       "      <th>996</th>\n",
       "      <td>1</td>\n",
       "      <td>0</td>\n",
       "    </tr>\n",
       "    <tr>\n",
       "      <th>997</th>\n",
       "      <td>1</td>\n",
       "      <td>0</td>\n",
       "    </tr>\n",
       "    <tr>\n",
       "      <th>998</th>\n",
       "      <td>1</td>\n",
       "      <td>0</td>\n",
       "    </tr>\n",
       "    <tr>\n",
       "      <th>999</th>\n",
       "      <td>1</td>\n",
       "      <td>0</td>\n",
       "    </tr>\n",
       "  </tbody>\n",
       "</table>\n",
       "<p>1000 rows × 2 columns</p>\n",
       "</div>"
      ],
      "text/plain": [
       "     0  1\n",
       "0    0  1\n",
       "1    0  1\n",
       "2    0  1\n",
       "3    0  1\n",
       "4    0  1\n",
       "..  .. ..\n",
       "995  1  0\n",
       "996  1  0\n",
       "997  1  0\n",
       "998  1  0\n",
       "999  1  0\n",
       "\n",
       "[1000 rows x 2 columns]"
      ]
     },
     "execution_count": 38,
     "metadata": {},
     "output_type": "execute_result"
    }
   ],
   "source": [
    "pd.DataFrame(dataset.input_data_2)"
   ]
  },
  {
   "cell_type": "code",
   "execution_count": 33,
   "metadata": {},
   "outputs": [
    {
     "data": {
      "text/plain": [
       "array([[0, 1],\n",
       "       [0, 1],\n",
       "       [0, 1],\n",
       "       ...,\n",
       "       [1, 0],\n",
       "       [1, 0],\n",
       "       [1, 0]])"
      ]
     },
     "execution_count": 33,
     "metadata": {},
     "output_type": "execute_result"
    }
   ],
   "source": []
  },
  {
   "cell_type": "code",
   "execution_count": 24,
   "metadata": {},
   "outputs": [
    {
     "data": {
      "text/plain": [
       "512"
      ]
     },
     "execution_count": 24,
     "metadata": {},
     "output_type": "execute_result"
    }
   ],
   "source": [
    "dataset[1][\"input_ids\"].size()[1]## Double bracket for dataframe if single value"
   ]
  },
  {
   "cell_type": "code",
   "execution_count": 25,
   "metadata": {},
   "outputs": [
    {
     "data": {
      "text/html": [
       "<div>\n",
       "<style scoped>\n",
       "    .dataframe tbody tr th:only-of-type {\n",
       "        vertical-align: middle;\n",
       "    }\n",
       "\n",
       "    .dataframe tbody tr th {\n",
       "        vertical-align: top;\n",
       "    }\n",
       "\n",
       "    .dataframe thead th {\n",
       "        text-align: right;\n",
       "    }\n",
       "</style>\n",
       "<table border=\"1\" class=\"dataframe\">\n",
       "  <thead>\n",
       "    <tr style=\"text-align: right;\">\n",
       "      <th></th>\n",
       "      <th>trueIndex</th>\n",
       "      <th>feature</th>\n",
       "      <th>targetTwo</th>\n",
       "      <th>targetOne</th>\n",
       "      <th>tokenizedFeature</th>\n",
       "      <th>input_ids</th>\n",
       "      <th>attention_mask</th>\n",
       "    </tr>\n",
       "  </thead>\n",
       "  <tbody>\n",
       "    <tr>\n",
       "      <th>1</th>\n",
       "      <td>4578</td>\n",
       "      <td>great spring time dress looks good thin top ca...</td>\n",
       "      <td>5</td>\n",
       "      <td>1</td>\n",
       "      <td>[input_ids, token_type_ids, attention_mask]</td>\n",
       "      <td>[[tensor(101), tensor(2307), tensor(3500), ten...</td>\n",
       "      <td>[[tensor(1), tensor(1), tensor(1), tensor(1), ...</td>\n",
       "    </tr>\n",
       "  </tbody>\n",
       "</table>\n",
       "</div>"
      ],
      "text/plain": [
       "   trueIndex                                            feature  targetTwo  \\\n",
       "1       4578  great spring time dress looks good thin top ca...          5   \n",
       "\n",
       "   targetOne                             tokenizedFeature  \\\n",
       "1          1  [input_ids, token_type_ids, attention_mask]   \n",
       "\n",
       "                                           input_ids  \\\n",
       "1  [[tensor(101), tensor(2307), tensor(3500), ten...   \n",
       "\n",
       "                                      attention_mask  \n",
       "1  [[tensor(1), tensor(1), tensor(1), tensor(1), ...  "
      ]
     },
     "execution_count": 25,
     "metadata": {},
     "output_type": "execute_result"
    }
   ],
   "source": [
    "dataset[[1]]"
   ]
  },
  {
   "cell_type": "code",
   "execution_count": 26,
   "metadata": {},
   "outputs": [],
   "source": [
    "def dataLoader():\n",
    "    trainDataLoader = DataLoader(dataset[dataset.train_idx], batch_size=10, shuffle=True)\n",
    "    testDataLoader = DataLoader(dataset[dataset.test_idx], batch_size=10, shuffle=True)\n",
    "    valDataLoader = DataLoader(dataset[dataset.val_idx], batch_size=10, shuffle=True)\n",
    "    return trainDataLoader, testDataLoader, valDataLoader"
   ]
  },
  {
   "cell_type": "code",
   "execution_count": 27,
   "metadata": {},
   "outputs": [],
   "source": [
    "x, y, z = dataLoader()"
   ]
  },
  {
   "cell_type": "code",
   "execution_count": 28,
   "metadata": {},
   "outputs": [],
   "source": [
    "class MultiClassClassifier(pl.LightningModule):\n",
    "    def __init__(self, seed, output_dim, input_dim=4, hidden_dim=5, learning_rate=1e-3, max_learning_rate=0.1, total_steps=100):\n",
    "        # lower than epoch higher than iterations\n",
    "        super().__init__()\n",
    "        # self.save_hyperparameters()  # save_hyperparameters\n",
    "        pl.seed_everything(seed)\n",
    "        self.model = DistilBertModel.from_pretrained('distilbert-base-uncased')\n",
    "        self.pre_classifier = torch.nn.Linear(512, 512)\n",
    "        self.dropout = torch.nn.Dropout(0.3)\n",
    "        self.classifier = torch.nn.Linear(512,output_dim)\n",
    "\n",
    "    def forward(self, batch):\n",
    "        # input_ids = Input(shape=(MAX_LEN,), dtype=tf.int32, name=\"input_ids\")\n",
    "        # input_mask = Input(shape=(MAX_LEN,), dtype=tf.int32, name=\"attention_mask\")\n",
    "        embeddings = self.model(batch['input_ids'], attention_mask=batch['attention_mask'],return_dict=False)[0]\n",
    "        pooler = self.pre_classifier(embeddings)\n",
    "        pooler = torch.nn.ReLU()(pooler)\n",
    "        pooler = self.dropout(pooler)\n",
    "        output = self.classifier(pooler)\n",
    "        return output\n",
    "\n",
    "    def configure_optimizers(self):\n",
    "        optimizer = Adam(self.parameters(), lr=self.hparams.learning_rate)\n",
    "        scheduler = OneCycleLR(optimizer, self.hparams.max_learning_rate, self.hparams.total_steps)\n",
    "        return [optimizer], [scheduler]\n",
    "\n",
    "    def training_step(self, batch, batch_idx):\n",
    "        logits = self.forward(batch)\n",
    "        loss = F.nll_loss(logits, batch['labels'])\n",
    "        self.log(\"train_loss\", loss, on_step=False, on_epoch=True)\n",
    "        return loss\n",
    "\n",
    "    def validation_step(self, batch, batch_idx):\n",
    "        logits = self.forward(batch)\n",
    "        loss = F.nll_loss(logits, batch['labels'])\n",
    "        self.log(\"val_loss\", loss)\n",
    "\n",
    "    def test_step(self, batch, batch_idx):\n",
    "        logits = self.forward(batch)\n",
    "        loss = F.nll_loss(logits, batch['labels'])\n",
    "        self.log(\"test_loss\", loss)\n",
    "\n",
    "    def predict(self, x):\n",
    "        # TODO this will be changed\n",
    "        self.eval()\n",
    "        logits = self.forward(x)\n",
    "        self.train()\n",
    "        return torch.argmax(logits, dim=1).detach().numpy()"
   ]
  },
  {
   "cell_type": "code",
   "execution_count": 29,
   "metadata": {},
   "outputs": [],
   "source": [
    "\n",
    "# Here is your PyTorch Lightning model\n",
    "class LitNetwork(pl.LightningModule):\n",
    "    def __init__(self, trainDataLoader, testDataLoader, valDataLoader):\n",
    "        super(LitNetwork, self).__init__()\n",
    "        self.train_ds = trainDataLoader\n",
    "        self.test_ds = testDataLoader\n",
    "        self.val_ds = valDataLoader\n",
    "        self.linear1 = nn.Linear(48, 25)\n",
    "        self.linear2 = nn.Linear(25, 2)\n",
    "        # self.label_binarizer = trainDataLoader.\n",
    "\n",
    "    def forward(self, x):\n",
    "        x = torch.sigmoid(self.linear1(x))\n",
    "        x = self.linear2(x)\n",
    "        return x\n",
    "\n",
    "    def training_step(self, batch, batch_idx):\n",
    "        x, y = batch\n",
    "        y_hat = self(x)\n",
    "        loss = nn.functional.cross_entropy(y_hat, y)\n",
    "        \n",
    "        # Calculate accuracy\n",
    "        preds = torch.argmax(y_hat, dim=1)\n",
    "        acc = torchmetrics.functional.accuracy(preds,  y)\n",
    "\n",
    "        # Logging to TensorBoard by default\n",
    "        self.log('train_loss', loss, on_step=True, on_epoch=True, prog_bar=True, logger=True)\n",
    "        self.log('train_acc', acc, on_step=True, on_epoch=True, prog_bar=True, logger=True)\n",
    "        \n",
    "        return loss\n",
    "    \n",
    "\n",
    "    def configure_optimizers(self):\n",
    "        return torch.optim.Adam(self.parameters(), lr=0.02)\n",
    "\n",
    "    def train_dataloader(self):\n",
    "        return self.train_ds\n",
    "\n",
    "    def test_dataloader(self):\n",
    "        return self.test_ds  # return your dataloader\n",
    "        \n",
    "    def val_dataloader(self):\n",
    "        return self.val_ds  # return your dataloader"
   ]
  },
  {
   "cell_type": "code",
   "execution_count": 30,
   "metadata": {},
   "outputs": [],
   "source": [
    "# class MultiClassClassifier(pl.LightningModule):\n",
    "#     def __init__(self, seed, output_dim, input_dim=4, hidden_dim=5, learning_rate=1e-3, max_learning_rate=0.1, total_steps=100):\n",
    "#         # lower than epoch higher than iterations\n",
    "#         super().__init__()\n",
    "#         self.save_hyperparameters()  # save_hyperparameters\n",
    "#         pl.seed_everything(seed)\n",
    "#         self.model = DistilBertModel.from_pretrained('distilbert-base-uncased')\n",
    "#         # self.pre_classifier = torch.nn.Linear(768, 768)\n",
    "#         # self.dropout = torch.nn.Dropout(0.3)\n",
    "#         # self.classifier = torch.nn.Linear(768,output_dim)\n",
    "\n",
    "#     def forward(self, batch):\n",
    "#         # input_ids = Input(shape=(MAX_LEN,), dtype=tf.int32, name=\"input_ids\")\n",
    "#         # input_mask = Input(shape=(MAX_LEN,), dtype=tf.int32, name=\"attention_mask\")\n",
    "#         embeddings = self.model(batch['input_ids'], attention_mask=batch['attention_mask'],return_dict=False)[0]\n",
    "#         pooler = self.pre_classifier(embeddings)\n",
    "#         pooler = torch.nn.ReLU()(pooler)\n",
    "#         pooler = self.dropout(pooler)\n",
    "#         output = self.classifier(pooler)\n",
    "#         return output\n",
    "\n",
    "#     def configure_optimizers(self):\n",
    "#         optimizer = Adam(self.parameters(), lr=self.hparams.learning_rate)\n",
    "#         scheduler = OneCycleLR(optimizer, self.hparams.max_learning_rate, self.hparams.total_steps)\n",
    "#         return [optimizer], [scheduler]\n",
    "\n",
    "#     def training_step(self, batch, batch_idx):\n",
    "#         logits = self.forward(batch)\n",
    "#         loss = F.nll_loss(logits, batch['labels'])\n",
    "#         self.log(\"train_loss\", loss, on_step=False, on_epoch=True)\n",
    "#         return loss\n",
    "\n",
    "#     def validation_step(self, batch, batch_idx):\n",
    "#         logits = self.forward(batch)\n",
    "#         loss = F.nll_loss(logits, batch['labels'])\n",
    "#         self.log(\"val_loss\", loss)\n",
    "\n",
    "#     def test_step(self, batch, batch_idx):\n",
    "#         logits = self.forward(batch)\n",
    "#         loss = F.nll_loss(logits, batch['labels'])\n",
    "#         self.log(\"test_loss\", loss)\n",
    "\n",
    "#     def predict(self, x):\n",
    "#         # TODO this will be changed\n",
    "#         self.eval()\n",
    "#         logits = self.forward(x)\n",
    "#         self.train()\n",
    "#         return torch.argmax(logits, dim=1).detach().numpy()\n",
    "\n",
    "#     # def df_to_tensor(self, df, target_col=None, format=np.float32):\n",
    "#     #     if target_col is not None:\n",
    "#     #         feature_cols = [col for col in df.columns if col != target_col]\n",
    "#     #         tensor = TensorDataset(\n",
    "#     #             torch.tensor(df[feature_cols].values.astype(format)),\n",
    "#     #             torch.tensor(df[target_col].values),\n",
    "#     #         )\n",
    "#     #     else:\n",
    "#     #         tensor = torch.tensor(df.values.astype(format))\n",
    "#     #     return tensor\n",
    "\n",
    "#     def tensor_to_loader(self, tensor, batch_size, num_workers, shuffle=True):\n",
    "#         loader = DataLoader(dataset=tensor, batch_size=batch_size, num_workers=num_workers, shuffle=shuffle)\n",
    "#         return loader\n",
    "\n",
    "#     def setup_trainer(self, experiment, run_id, max_epochs):\n",
    "#         # mlf_logger = MLFlowLogger(experiment_name=experiment)\n",
    "#         # mlf_logger._run_id = run_id\n",
    "#         trainer = pl.Trainer(\n",
    "#             max_epochs=max_epochs,\n",
    "#             callbacks=[EarlyStopping(monitor=\"val_loss\"), LearningRateMonitor(logging_interval=\"epoch\")],\n",
    "#             # logger=mlf_logger,\n",
    "#         )\n",
    "\n",
    "#         return trainer"
   ]
  },
  {
   "cell_type": "code",
   "execution_count": 31,
   "metadata": {},
   "outputs": [],
   "source": [
    "# class CustomBertClassifier(nn.Module):\n",
    "#     def __init__(self, bert_model):\n",
    "#         super(CustomBertClassifier, self).__init__()\n",
    "#         self.bert = bert_model\n",
    "#         self.fc = nn.Linear(bert_model.config.hidden_size, 2)  # Binary classification\n",
    "\n",
    "#     def forward(self, input_ids, attention_mask):\n",
    "#         outputs = self.bert(input_ids, attention_mask=attention_mask)\n",
    "#         pooled_output = outputs['pooler_output']\n",
    "#         logits = self.fc(pooled_output)\n",
    "#         return logits"
   ]
  },
  {
   "cell_type": "code",
   "execution_count": 32,
   "metadata": {},
   "outputs": [],
   "source": [
    "\n",
    "# # Here is your PyTorch Lightning model\n",
    "# class LitNetwork(pl.LightningModule):\n",
    "#     def __init__(self, trainDataLoader, testDataLoader, valDataLoader):\n",
    "#         super(LitNetwork, self).__init__()\n",
    "#         self.train_ds = trainDataLoader\n",
    "#         self.test_ds = testDataLoader\n",
    "#         self.val_ds = valDataLoader\n",
    "#         self.linear1 = nn.Linear(48, 25)\n",
    "#         self.linear2 = nn.Linear(25, 2)\n",
    "#         # self.label_binarizer = trainDataLoader.\n",
    "\n",
    "#     def forward(self, x):\n",
    "#         x = torch.sigmoid(self.linear1(x))\n",
    "#         x = self.linear2(x)\n",
    "#         return x\n",
    "\n",
    "#     def training_step(self, batch, batch_idx):\n",
    "#         x, y = batch\n",
    "#         y_hat = self(x)\n",
    "#         loss = nn.functional.cross_entropy(y_hat, y)\n",
    "        \n",
    "#         # Calculate accuracy\n",
    "#         preds = torch.argmax(y_hat, dim=1)\n",
    "#         acc = torchmetrics.functional.accuracy(preds,  y)\n",
    "\n",
    "#         # Logging to TensorBoard by default\n",
    "#         self.log('train_loss', loss, on_step=True, on_epoch=True, prog_bar=True, logger=True)\n",
    "#         self.log('train_acc', acc, on_step=True, on_epoch=True, prog_bar=True, logger=True)\n",
    "        \n",
    "#         return loss\n",
    "    \n",
    "\n",
    "#     def configure_optimizers(self):\n",
    "#         return torch.optim.Adam(self.parameters(), lr=0.02)\n",
    "\n",
    "#     def train_dataloader(self):\n",
    "#         return self.train_ds\n",
    "\n",
    "#     def test_dataloader(self):\n",
    "#         return self.test_ds  # return your dataloader\n",
    "        \n",
    "#     def val_dataloader(self):\n",
    "#         return self.val_ds  # return your dataloader"
   ]
  }
 ],
 "metadata": {
  "kernelspec": {
   "display_name": "spark_env",
   "language": "python",
   "name": "python3"
  },
  "language_info": {
   "codemirror_mode": {
    "name": "ipython",
    "version": 3
   },
   "file_extension": ".py",
   "mimetype": "text/x-python",
   "name": "python",
   "nbconvert_exporter": "python",
   "pygments_lexer": "ipython3",
   "version": "3.9.6"
  },
  "orig_nbformat": 4
 },
 "nbformat": 4,
 "nbformat_minor": 2
}
