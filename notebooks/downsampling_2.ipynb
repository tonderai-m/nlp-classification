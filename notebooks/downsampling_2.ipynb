{
 "cells": [
  {
   "cell_type": "code",
   "execution_count": 1,
   "metadata": {},
   "outputs": [],
   "source": [
    "## My eda script for analysis "
   ]
  },
  {
   "cell_type": "code",
   "execution_count": 2,
   "metadata": {},
   "outputs": [],
   "source": [
    "import pandas as pd "
   ]
  },
  {
   "cell_type": "code",
   "execution_count": 3,
   "metadata": {},
   "outputs": [],
   "source": [
    "data = pd.read_csv(\"data/Womens Clothing E-Commerce Reviews.csv\")"
   ]
  },
  {
   "cell_type": "code",
   "execution_count": 4,
   "metadata": {},
   "outputs": [],
   "source": [
    "df = data[['Review Text', 'Rating','Recommended IND']]"
   ]
  },
  {
   "cell_type": "code",
   "execution_count": 5,
   "metadata": {},
   "outputs": [],
   "source": [
    "df = df.dropna(how=\"any\")"
   ]
  },
  {
   "cell_type": "code",
   "execution_count": 6,
   "metadata": {},
   "outputs": [],
   "source": [
    "good = df[df['Recommended IND'] == 1]\n",
    "bad = df[df['Recommended IND'] == 0]"
   ]
  },
  {
   "cell_type": "code",
   "execution_count": 7,
   "metadata": {},
   "outputs": [],
   "source": [
    "min_num = min(len(good), len(bad))"
   ]
  },
  {
   "cell_type": "code",
   "execution_count": 8,
   "metadata": {},
   "outputs": [],
   "source": [
    "selected_good = good.sample(n=min_num)\n",
    "selected_bad = bad.sample(n=min_num)"
   ]
  },
  {
   "cell_type": "code",
   "execution_count": 9,
   "metadata": {},
   "outputs": [],
   "source": [
    "combined_pd = pd.concat([selected_good,selected_bad])"
   ]
  },
  {
   "cell_type": "code",
   "execution_count": 10,
   "metadata": {},
   "outputs": [
    {
     "data": {
      "text/html": [
       "<div>\n",
       "<style scoped>\n",
       "    .dataframe tbody tr th:only-of-type {\n",
       "        vertical-align: middle;\n",
       "    }\n",
       "\n",
       "    .dataframe tbody tr th {\n",
       "        vertical-align: top;\n",
       "    }\n",
       "\n",
       "    .dataframe thead th {\n",
       "        text-align: right;\n",
       "    }\n",
       "</style>\n",
       "<table border=\"1\" class=\"dataframe\">\n",
       "  <thead>\n",
       "    <tr style=\"text-align: right;\">\n",
       "      <th></th>\n",
       "      <th>Review Text</th>\n",
       "      <th>Rating</th>\n",
       "      <th>Recommended IND</th>\n",
       "    </tr>\n",
       "  </thead>\n",
       "  <tbody>\n",
       "    <tr>\n",
       "      <th>18890</th>\n",
       "      <td>I admit i have a soft spot for a most anything...</td>\n",
       "      <td>5</td>\n",
       "      <td>1</td>\n",
       "    </tr>\n",
       "    <tr>\n",
       "      <th>7635</th>\n",
       "      <td>The color and design/style are cute but i foun...</td>\n",
       "      <td>3</td>\n",
       "      <td>1</td>\n",
       "    </tr>\n",
       "    <tr>\n",
       "      <th>14432</th>\n",
       "      <td>I practically live in lounge pants, and i like...</td>\n",
       "      <td>3</td>\n",
       "      <td>1</td>\n",
       "    </tr>\n",
       "    <tr>\n",
       "      <th>1592</th>\n",
       "      <td>I love sundry clothing. this lightweight fleec...</td>\n",
       "      <td>5</td>\n",
       "      <td>1</td>\n",
       "    </tr>\n",
       "    <tr>\n",
       "      <th>18030</th>\n",
       "      <td>Purchased the daisy sleep top to go with the m...</td>\n",
       "      <td>5</td>\n",
       "      <td>1</td>\n",
       "    </tr>\n",
       "    <tr>\n",
       "      <th>...</th>\n",
       "      <td>...</td>\n",
       "      <td>...</td>\n",
       "      <td>...</td>\n",
       "    </tr>\n",
       "    <tr>\n",
       "      <th>14410</th>\n",
       "      <td>This vibrant colors in this dress are beautifu...</td>\n",
       "      <td>3</td>\n",
       "      <td>0</td>\n",
       "    </tr>\n",
       "    <tr>\n",
       "      <th>14305</th>\n",
       "      <td>I read the reviews before i bought this dress ...</td>\n",
       "      <td>3</td>\n",
       "      <td>0</td>\n",
       "    </tr>\n",
       "    <tr>\n",
       "      <th>10764</th>\n",
       "      <td>I got this dress in the mail, and while i love...</td>\n",
       "      <td>3</td>\n",
       "      <td>0</td>\n",
       "    </tr>\n",
       "    <tr>\n",
       "      <th>6118</th>\n",
       "      <td>I like design of the dress, softness and color...</td>\n",
       "      <td>3</td>\n",
       "      <td>0</td>\n",
       "    </tr>\n",
       "    <tr>\n",
       "      <th>17839</th>\n",
       "      <td>I should have read the reviews first before or...</td>\n",
       "      <td>1</td>\n",
       "      <td>0</td>\n",
       "    </tr>\n",
       "  </tbody>\n",
       "</table>\n",
       "<p>8202 rows × 3 columns</p>\n",
       "</div>"
      ],
      "text/plain": [
       "                                             Review Text  Rating  \\\n",
       "18890  I admit i have a soft spot for a most anything...       5   \n",
       "7635   The color and design/style are cute but i foun...       3   \n",
       "14432  I practically live in lounge pants, and i like...       3   \n",
       "1592   I love sundry clothing. this lightweight fleec...       5   \n",
       "18030  Purchased the daisy sleep top to go with the m...       5   \n",
       "...                                                  ...     ...   \n",
       "14410  This vibrant colors in this dress are beautifu...       3   \n",
       "14305  I read the reviews before i bought this dress ...       3   \n",
       "10764  I got this dress in the mail, and while i love...       3   \n",
       "6118   I like design of the dress, softness and color...       3   \n",
       "17839  I should have read the reviews first before or...       1   \n",
       "\n",
       "       Recommended IND  \n",
       "18890                1  \n",
       "7635                 1  \n",
       "14432                1  \n",
       "1592                 1  \n",
       "18030                1  \n",
       "...                ...  \n",
       "14410                0  \n",
       "14305                0  \n",
       "10764                0  \n",
       "6118                 0  \n",
       "17839                0  \n",
       "\n",
       "[8202 rows x 3 columns]"
      ]
     },
     "execution_count": 10,
     "metadata": {},
     "output_type": "execute_result"
    }
   ],
   "source": [
    "combined_pd"
   ]
  },
  {
   "cell_type": "code",
   "execution_count": 11,
   "metadata": {},
   "outputs": [],
   "source": [
    "import numpy as np\n",
    "import torch\n",
    "\n",
    "\n",
    "class TextDataset(torch.utils.data.Dataset):\n",
    "    def __init__(self, dataset, tokenizer, max_len):\n",
    "        self.tokenizer = tokenizer\n",
    "        self.max_len = max_len\n",
    "        self.encodings = None\n",
    "        self.raw_text = dataset['feature']\n",
    "        self.create_encoding()\n",
    "        self.labels = None\n",
    "        self.raw_labels = dataset['target']\n",
    "        self.create_target()\n",
    "        self.input_ids = self.encodings['input_ids']\n",
    "        self.attention_mask = self.encodings['attention_mask']\n",
    "        self.output_len = len(self.labels[0])\n",
    "\n",
    "    def __getitem__(self, idx):\n",
    "        item = {key: val[idx].clone().detach() for key, val in self.encodings.items()}\n",
    "        item['labels'] = self.labels[idx]\n",
    "        return item\n",
    "\n",
    "    def __len__(self):\n",
    "        return len(self.labels)\n",
    "\n",
    "    def create_encoding(self):\n",
    "        x = self.tokenizer(text=self.raw_text.tolist(),\n",
    "                           add_special_tokens=True,\n",
    "                           max_length=self.max_len,\n",
    "                           padding='max_length',\n",
    "                           return_tensors='pt',\n",
    "                           return_token_type_ids=False,\n",
    "                           return_attention_mask=True,\n",
    "                           verbose=True)\n",
    "        self.encodings = x\n",
    "\n",
    "    def create_target(self):\n",
    "        y = self.raw_labels\n",
    "        y = torch.tensor(np.stack(y.values))\n",
    "        self.labels = y"
   ]
  },
  {
   "cell_type": "code",
   "execution_count": 12,
   "metadata": {},
   "outputs": [],
   "source": [
    "\n",
    "class TextDataset(torch.utils.data.Dataset):\n",
    "    def __init__(self, dataset, tokenizer, max_len):\n",
    "        self.tokenizer = tokenizer\n",
    "        self.max_len = max_len\n",
    "        self.encodings = None\n",
    "        self.raw_text = dataset['feature']\n",
    "        self.create_encoding()\n",
    "        self.labels = None\n",
    "        self.raw_labels = dataset['target']\n",
    "        self.create_target()\n",
    "        self.input_ids = self.encodings['input_ids']\n",
    "        self.attention_mask = self.encodings['attention_mask']\n",
    "        self.output_len = len(self.labels[0])"
   ]
  }
 ],
 "metadata": {
  "kernelspec": {
   "display_name": "spark_env",
   "language": "python",
   "name": "python3"
  },
  "language_info": {
   "codemirror_mode": {
    "name": "ipython",
    "version": 3
   },
   "file_extension": ".py",
   "mimetype": "text/x-python",
   "name": "python",
   "nbconvert_exporter": "python",
   "pygments_lexer": "ipython3",
   "version": "3.9.6"
  },
  "orig_nbformat": 4
 },
 "nbformat": 4,
 "nbformat_minor": 2
}
