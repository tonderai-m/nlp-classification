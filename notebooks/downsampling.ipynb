{
 "cells": [
  {
   "cell_type": "code",
   "execution_count": 1,
   "metadata": {},
   "outputs": [],
   "source": [
    "## My eda script for analysis "
   ]
  },
  {
   "cell_type": "code",
   "execution_count": 6,
   "metadata": {},
   "outputs": [
    {
     "ename": "ModuleNotFoundError",
     "evalue": "No module named 'pandas'",
     "output_type": "error",
     "traceback": [
      "\u001b[0;31m---------------------------------------------------------------------------\u001b[0m",
      "\u001b[0;31mModuleNotFoundError\u001b[0m                       Traceback (most recent call last)",
      "Cell \u001b[0;32mIn[6], line 1\u001b[0m\n\u001b[0;32m----> 1\u001b[0m \u001b[39mimport\u001b[39;00m \u001b[39mpandas\u001b[39;00m \u001b[39mas\u001b[39;00m \u001b[39mpd\u001b[39;00m \n",
      "\u001b[0;31mModuleNotFoundError\u001b[0m: No module named 'pandas'"
     ]
    }
   ],
   "source": [
    "import pandas as pd "
   ]
  },
  {
   "cell_type": "code",
   "execution_count": null,
   "metadata": {},
   "outputs": [],
   "source": [
    "data = pd.read_csv(\"/home/falconx/-nlp-research/input/Womens Clothing E-Commerce Reviews.csv\")"
   ]
  },
  {
   "cell_type": "code",
   "execution_count": null,
   "metadata": {},
   "outputs": [],
   "source": [
    "df = data[['Review Text', 'Rating','Recommended IND']]"
   ]
  },
  {
   "cell_type": "code",
   "execution_count": null,
   "metadata": {},
   "outputs": [],
   "source": [
    "df = df.dropna(how=\"any\")"
   ]
  },
  {
   "cell_type": "code",
   "execution_count": null,
   "metadata": {},
   "outputs": [],
   "source": [
    "good = df[df['Recommended IND'] == 1]\n",
    "bad = df[df['Recommended IND'] == 0]"
   ]
  },
  {
   "cell_type": "code",
   "execution_count": null,
   "metadata": {},
   "outputs": [],
   "source": [
    "min_num = min(len(good), len(bad))"
   ]
  },
  {
   "cell_type": "code",
   "execution_count": null,
   "metadata": {},
   "outputs": [],
   "source": [
    "selected_good = good.sample(n=min_num)\n",
    "selected_bad = bad.sample(n=min_num)"
   ]
  },
  {
   "cell_type": "code",
   "execution_count": null,
   "metadata": {},
   "outputs": [],
   "source": [
    "combined_pd = pd.concat([selected_good,selected_bad])"
   ]
  },
  {
   "cell_type": "code",
   "execution_count": null,
   "metadata": {},
   "outputs": [
    {
     "data": {
      "text/html": [
       "<div>\n",
       "<style scoped>\n",
       "    .dataframe tbody tr th:only-of-type {\n",
       "        vertical-align: middle;\n",
       "    }\n",
       "\n",
       "    .dataframe tbody tr th {\n",
       "        vertical-align: top;\n",
       "    }\n",
       "\n",
       "    .dataframe thead th {\n",
       "        text-align: right;\n",
       "    }\n",
       "</style>\n",
       "<table border=\"1\" class=\"dataframe\">\n",
       "  <thead>\n",
       "    <tr style=\"text-align: right;\">\n",
       "      <th></th>\n",
       "      <th>Review Text</th>\n",
       "      <th>Rating</th>\n",
       "      <th>Recommended IND</th>\n",
       "    </tr>\n",
       "  </thead>\n",
       "  <tbody>\n",
       "    <tr>\n",
       "      <th>19109</th>\n",
       "      <td>I saw this in an email and loved it but by the...</td>\n",
       "      <td>5</td>\n",
       "      <td>1</td>\n",
       "    </tr>\n",
       "    <tr>\n",
       "      <th>3800</th>\n",
       "      <td>I bought this as a swimsuit cover and it was e...</td>\n",
       "      <td>5</td>\n",
       "      <td>1</td>\n",
       "    </tr>\n",
       "    <tr>\n",
       "      <th>878</th>\n",
       "      <td>This is more beautiful in person. i love the d...</td>\n",
       "      <td>5</td>\n",
       "      <td>1</td>\n",
       "    </tr>\n",
       "    <tr>\n",
       "      <th>20455</th>\n",
       "      <td>This is a full swing top. because the top is s...</td>\n",
       "      <td>5</td>\n",
       "      <td>1</td>\n",
       "    </tr>\n",
       "    <tr>\n",
       "      <th>6674</th>\n",
       "      <td>Bought this in dark grey, which has a lovely b...</td>\n",
       "      <td>5</td>\n",
       "      <td>1</td>\n",
       "    </tr>\n",
       "    <tr>\n",
       "      <th>...</th>\n",
       "      <td>...</td>\n",
       "      <td>...</td>\n",
       "      <td>...</td>\n",
       "    </tr>\n",
       "    <tr>\n",
       "      <th>21928</th>\n",
       "      <td>I've worn citizens for almost 12 years now, i ...</td>\n",
       "      <td>1</td>\n",
       "      <td>0</td>\n",
       "    </tr>\n",
       "    <tr>\n",
       "      <th>19624</th>\n",
       "      <td>I saw this shirt online first and immediately ...</td>\n",
       "      <td>3</td>\n",
       "      <td>0</td>\n",
       "    </tr>\n",
       "    <tr>\n",
       "      <th>15802</th>\n",
       "      <td>These are the very stretchy, almost spongy, ty...</td>\n",
       "      <td>3</td>\n",
       "      <td>0</td>\n",
       "    </tr>\n",
       "    <tr>\n",
       "      <th>22096</th>\n",
       "      <td>Loved this online, but the xs was too big and ...</td>\n",
       "      <td>2</td>\n",
       "      <td>0</td>\n",
       "    </tr>\n",
       "    <tr>\n",
       "      <th>8269</th>\n",
       "      <td>I love everything from retailer but this top d...</td>\n",
       "      <td>2</td>\n",
       "      <td>0</td>\n",
       "    </tr>\n",
       "  </tbody>\n",
       "</table>\n",
       "<p>8202 rows × 3 columns</p>\n",
       "</div>"
      ],
      "text/plain": [
       "                                             Review Text  Rating  \\\n",
       "19109  I saw this in an email and loved it but by the...       5   \n",
       "3800   I bought this as a swimsuit cover and it was e...       5   \n",
       "878    This is more beautiful in person. i love the d...       5   \n",
       "20455  This is a full swing top. because the top is s...       5   \n",
       "6674   Bought this in dark grey, which has a lovely b...       5   \n",
       "...                                                  ...     ...   \n",
       "21928  I've worn citizens for almost 12 years now, i ...       1   \n",
       "19624  I saw this shirt online first and immediately ...       3   \n",
       "15802  These are the very stretchy, almost spongy, ty...       3   \n",
       "22096  Loved this online, but the xs was too big and ...       2   \n",
       "8269   I love everything from retailer but this top d...       2   \n",
       "\n",
       "       Recommended IND  \n",
       "19109                1  \n",
       "3800                 1  \n",
       "878                  1  \n",
       "20455                1  \n",
       "6674                 1  \n",
       "...                ...  \n",
       "21928                0  \n",
       "19624                0  \n",
       "15802                0  \n",
       "22096                0  \n",
       "8269                 0  \n",
       "\n",
       "[8202 rows x 3 columns]"
      ]
     },
     "execution_count": 51,
     "metadata": {},
     "output_type": "execute_result"
    }
   ],
   "source": [
    "combined_pd"
   ]
  },
  {
   "cell_type": "code",
   "execution_count": null,
   "metadata": {},
   "outputs": [],
   "source": [
    "import numpy as np\n",
    "import torch\n",
    "\n",
    "\n",
    "class TextDataset(torch.utils.data.Dataset):\n",
    "    def __init__(self, dataset, tokenizer, max_len):\n",
    "        self.tokenizer = tokenizer\n",
    "        self.max_len = max_len\n",
    "        self.encodings = None\n",
    "        self.raw_text = dataset['feature']\n",
    "        self.create_encoding()\n",
    "        self.labels = None\n",
    "        self.raw_labels = dataset['target']\n",
    "        self.create_target()\n",
    "        self.input_ids = self.encodings['input_ids']\n",
    "        self.attention_mask = self.encodings['attention_mask']\n",
    "        self.output_len = len(self.labels[0])\n",
    "\n",
    "    def __getitem__(self, idx):\n",
    "        item = {key: val[idx].clone().detach() for key, val in self.encodings.items()}\n",
    "        item['labels'] = self.labels[idx]\n",
    "        return item\n",
    "\n",
    "    def __len__(self):\n",
    "        return len(self.labels)\n",
    "\n",
    "    def create_encoding(self):\n",
    "        x = self.tokenizer(text=self.raw_text.tolist(),\n",
    "                           add_special_tokens=True,\n",
    "                           max_length=self.max_len,\n",
    "                           padding='max_length',\n",
    "                           return_tensors='pt',\n",
    "                           return_token_type_ids=False,\n",
    "                           return_attention_mask=True,\n",
    "                           verbose=True)\n",
    "        self.encodings = x\n",
    "\n",
    "    def create_target(self):\n",
    "        y = self.raw_labels\n",
    "        y = torch.tensor(np.stack(y.values))\n",
    "        self.labels = y"
   ]
  },
  {
   "cell_type": "code",
   "execution_count": null,
   "metadata": {},
   "outputs": [],
   "source": [
    "\n",
    "class TextDataset(torch.utils.data.Dataset):\n",
    "    def __init__(self, dataset, tokenizer, max_len):\n",
    "        self.tokenizer = tokenizer\n",
    "        self.max_len = max_len\n",
    "        self.encodings = None\n",
    "        self.raw_text = dataset['feature']\n",
    "        self.create_encoding()\n",
    "        self.labels = None\n",
    "        self.raw_labels = dataset['target']\n",
    "        self.create_target()\n",
    "        self.input_ids = self.encodings['input_ids']\n",
    "        self.attention_mask = self.encodings['attention_mask']\n",
    "        self.output_len = len(self.labels[0])"
   ]
  }
 ],
 "metadata": {
  "kernelspec": {
   "display_name": "spark_env",
   "language": "python",
   "name": "python3"
  },
  "language_info": {
   "codemirror_mode": {
    "name": "ipython",
    "version": 3
   },
   "file_extension": ".py",
   "mimetype": "text/x-python",
   "name": "python",
   "nbconvert_exporter": "python",
   "pygments_lexer": "ipython3",
   "version": "3.9.6"
  },
  "orig_nbformat": 4
 },
 "nbformat": 4,
 "nbformat_minor": 2
}
